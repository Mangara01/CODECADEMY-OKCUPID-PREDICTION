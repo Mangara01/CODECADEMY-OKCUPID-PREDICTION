{
  "cells": [
    {
      "cell_type": "markdown",
      "source": [
        "# Goals"
      ],
      "metadata": {
        "id": "z0Uc1mwPyXY7"
      }
    },
    {
      "cell_type": "markdown",
      "source": [
        "The goal of this project is to analyze data from OKCupid, a dating app that matches users based on multiple-choice and short-answer questions, with a focus on predicting users' zodiac signs."
      ],
      "metadata": {
        "id": "OyrHtNAoyfaq"
      }
    },
    {
      "cell_type": "markdown",
      "source": [
        "# Data"
      ],
      "metadata": {
        "id": "OEGyUq6HyhuO"
      }
    },
    {
      "cell_type": "markdown",
      "source": [
        "The data for this project is sourced from OKCupid and consists of various user attributes and profile responses. The dataset includes information about users age, body type, diet, drinking and smoking habits, education, essays, ethnicity, height, income, job, location, pets, religion, sex, sign (zodiac), and more. The data is structured as a tabular dataset, and its columns are a mix of categorical and numerical features."
      ],
      "metadata": {
        "id": "XQqAWiHTyktF"
      }
    },
    {
      "cell_type": "markdown",
      "source": [
        "# Analysis"
      ],
      "metadata": {
        "id": "-m2pS5Ou1DrY"
      }
    },
    {
      "cell_type": "markdown",
      "source": [
        "The analysis will involve data cleaning, preprocessing, and exploratory data analysis to understand the relationships between user attributes and zodiac signs. Machine learning models, particularly classification models, will be employed to predict users' zodiac signs based on their profile information.\n",
        "\n",
        "* Data Cleaning: Address missing values in the dataset to ensure data quality.\n",
        "* Feature Engineering: Create new features or extract relevant information from existing ones that might enhance the predictive models.\n",
        "* Model Selection: Explore various machine learning models, including decision trees, logistic regression, support vector machines, and ensemble methods like random forests or gradient boosting.\n",
        "\n",
        "The project scope is expected to provide valuable insights into the factors that influence users' zodiac signs as predicted by their OKCupid profiles. The project will conclude with a detailed report outlining the findings and recommendations based on the analysis.\n",
        "\n",
        "By successfully predicting users' zodiac signs, the project aims to demonstrate the application of data analysis and machine learning techniques in understanding the relationship between user attributes and astrology-based characteristics."
      ],
      "metadata": {
        "id": "KnnICtzTzqp1"
      }
    },
    {
      "cell_type": "markdown",
      "source": [
        "# Import Library"
      ],
      "metadata": {
        "id": "pcgLnTtf_qT0"
      }
    },
    {
      "cell_type": "code",
      "source": [
        "!pip install pycaret\n",
        "!pip install scipy"
      ],
      "metadata": {
        "id": "kLpWDeAH2c-g"
      },
      "execution_count": null,
      "outputs": []
    },
    {
      "cell_type": "code",
      "execution_count": 2,
      "metadata": {
        "id": "NhZSunjKEtLu"
      },
      "outputs": [],
      "source": [
        "import pandas as pd\n",
        "import numpy as np\n",
        "import re"
      ]
    },
    {
      "cell_type": "code",
      "source": [
        "from pycaret.classification import setup, compare_models, evaluate_model, predict_model, save_model, load_model"
      ],
      "metadata": {
        "id": "NJI6N35jUOCq"
      },
      "execution_count": 3,
      "outputs": []
    },
    {
      "cell_type": "markdown",
      "source": [
        "# Data Loading"
      ],
      "metadata": {
        "id": "I44Vmeur_wix"
      }
    },
    {
      "cell_type": "code",
      "source": [
        "df = pd.read_csv('/content/profiles.csv')"
      ],
      "metadata": {
        "id": "R6_1av0ZFN1E"
      },
      "execution_count": 4,
      "outputs": []
    },
    {
      "cell_type": "code",
      "source": [
        "# Check the data\n",
        "df.head(5)"
      ],
      "metadata": {
        "colab": {
          "base_uri": "https://localhost:8080/",
          "height": 741
        },
        "id": "XOY1vhWGw3Ko",
        "outputId": "d78cbd7e-1721-4e14-adb0-d03fbd9afbf1"
      },
      "execution_count": 5,
      "outputs": [
        {
          "output_type": "execute_result",
          "data": {
            "text/plain": [
              "   age       body_type               diet    drinks      drugs  \\\n",
              "0   22  a little extra  strictly anything  socially      never   \n",
              "1   35         average       mostly other     often  sometimes   \n",
              "2   38            thin           anything  socially        NaN   \n",
              "3   23            thin         vegetarian  socially        NaN   \n",
              "4   29        athletic                NaN  socially      never   \n",
              "\n",
              "                           education  \\\n",
              "0      working on college/university   \n",
              "1              working on space camp   \n",
              "2     graduated from masters program   \n",
              "3      working on college/university   \n",
              "4  graduated from college/university   \n",
              "\n",
              "                                              essay0  \\\n",
              "0  about me:<br />\\n<br />\\ni would love to think...   \n",
              "1  i am a chef: this is what that means.<br />\\n1...   \n",
              "2  i'm not ashamed of much, but writing public te...   \n",
              "3          i work in a library and go to school. . .   \n",
              "4  hey how's it going? currently vague on the pro...   \n",
              "\n",
              "                                              essay1  \\\n",
              "0  currently working as an international agent fo...   \n",
              "1  dedicating everyday to being an unbelievable b...   \n",
              "2  i make nerdy software for musicians, artists, ...   \n",
              "3          reading things written by old dead people   \n",
              "4                         work work work work + play   \n",
              "\n",
              "                                              essay2  \\\n",
              "0  making people laugh.<br />\\nranting about a go...   \n",
              "1  being silly. having ridiculous amonts of fun w...   \n",
              "2  improvising in different contexts. alternating...   \n",
              "3  playing synthesizers and organizing books acco...   \n",
              "4  creating imagery to look at:<br />\\nhttp://bag...   \n",
              "\n",
              "                                              essay3  ...  \\\n",
              "0  the way i look. i am a six foot half asian, ha...  ...   \n",
              "1                                                NaN  ...   \n",
              "2  my large jaw and large glasses are the physica...  ...   \n",
              "3                  socially awkward but i do my best  ...   \n",
              "4            i smile a lot and my inquisitive nature  ...   \n",
              "\n",
              "                          location  \\\n",
              "0  south san francisco, california   \n",
              "1              oakland, california   \n",
              "2        san francisco, california   \n",
              "3             berkeley, california   \n",
              "4        san francisco, california   \n",
              "\n",
              "                                      offspring orientation  \\\n",
              "0  doesn&rsquo;t have kids, but might want them    straight   \n",
              "1  doesn&rsquo;t have kids, but might want them    straight   \n",
              "2                                           NaN    straight   \n",
              "3                       doesn&rsquo;t want kids    straight   \n",
              "4                                           NaN    straight   \n",
              "\n",
              "                        pets                                  religion sex  \\\n",
              "0  likes dogs and likes cats     agnosticism and very serious about it   m   \n",
              "1  likes dogs and likes cats  agnosticism but not too serious about it   m   \n",
              "2                   has cats                                       NaN   m   \n",
              "3                 likes cats                                       NaN   m   \n",
              "4  likes dogs and likes cats                                       NaN   m   \n",
              "\n",
              "                                 sign     smokes  \\\n",
              "0                              gemini  sometimes   \n",
              "1                              cancer         no   \n",
              "2  pisces but it doesn&rsquo;t matter         no   \n",
              "3                              pisces         no   \n",
              "4                            aquarius         no   \n",
              "\n",
              "                                              speaks     status  \n",
              "0                                            english     single  \n",
              "1  english (fluently), spanish (poorly), french (...     single  \n",
              "2                               english, french, c++  available  \n",
              "3                           english, german (poorly)     single  \n",
              "4                                            english     single  \n",
              "\n",
              "[5 rows x 31 columns]"
            ],
            "text/html": [
              "\n",
              "  <div id=\"df-6a3208b0-a1ef-4893-be54-3d9c43f27c4a\" class=\"colab-df-container\">\n",
              "    <div>\n",
              "<style scoped>\n",
              "    .dataframe tbody tr th:only-of-type {\n",
              "        vertical-align: middle;\n",
              "    }\n",
              "\n",
              "    .dataframe tbody tr th {\n",
              "        vertical-align: top;\n",
              "    }\n",
              "\n",
              "    .dataframe thead th {\n",
              "        text-align: right;\n",
              "    }\n",
              "</style>\n",
              "<table border=\"1\" class=\"dataframe\">\n",
              "  <thead>\n",
              "    <tr style=\"text-align: right;\">\n",
              "      <th></th>\n",
              "      <th>age</th>\n",
              "      <th>body_type</th>\n",
              "      <th>diet</th>\n",
              "      <th>drinks</th>\n",
              "      <th>drugs</th>\n",
              "      <th>education</th>\n",
              "      <th>essay0</th>\n",
              "      <th>essay1</th>\n",
              "      <th>essay2</th>\n",
              "      <th>essay3</th>\n",
              "      <th>...</th>\n",
              "      <th>location</th>\n",
              "      <th>offspring</th>\n",
              "      <th>orientation</th>\n",
              "      <th>pets</th>\n",
              "      <th>religion</th>\n",
              "      <th>sex</th>\n",
              "      <th>sign</th>\n",
              "      <th>smokes</th>\n",
              "      <th>speaks</th>\n",
              "      <th>status</th>\n",
              "    </tr>\n",
              "  </thead>\n",
              "  <tbody>\n",
              "    <tr>\n",
              "      <th>0</th>\n",
              "      <td>22</td>\n",
              "      <td>a little extra</td>\n",
              "      <td>strictly anything</td>\n",
              "      <td>socially</td>\n",
              "      <td>never</td>\n",
              "      <td>working on college/university</td>\n",
              "      <td>about me:&lt;br /&gt;\\n&lt;br /&gt;\\ni would love to think...</td>\n",
              "      <td>currently working as an international agent fo...</td>\n",
              "      <td>making people laugh.&lt;br /&gt;\\nranting about a go...</td>\n",
              "      <td>the way i look. i am a six foot half asian, ha...</td>\n",
              "      <td>...</td>\n",
              "      <td>south san francisco, california</td>\n",
              "      <td>doesn&amp;rsquo;t have kids, but might want them</td>\n",
              "      <td>straight</td>\n",
              "      <td>likes dogs and likes cats</td>\n",
              "      <td>agnosticism and very serious about it</td>\n",
              "      <td>m</td>\n",
              "      <td>gemini</td>\n",
              "      <td>sometimes</td>\n",
              "      <td>english</td>\n",
              "      <td>single</td>\n",
              "    </tr>\n",
              "    <tr>\n",
              "      <th>1</th>\n",
              "      <td>35</td>\n",
              "      <td>average</td>\n",
              "      <td>mostly other</td>\n",
              "      <td>often</td>\n",
              "      <td>sometimes</td>\n",
              "      <td>working on space camp</td>\n",
              "      <td>i am a chef: this is what that means.&lt;br /&gt;\\n1...</td>\n",
              "      <td>dedicating everyday to being an unbelievable b...</td>\n",
              "      <td>being silly. having ridiculous amonts of fun w...</td>\n",
              "      <td>NaN</td>\n",
              "      <td>...</td>\n",
              "      <td>oakland, california</td>\n",
              "      <td>doesn&amp;rsquo;t have kids, but might want them</td>\n",
              "      <td>straight</td>\n",
              "      <td>likes dogs and likes cats</td>\n",
              "      <td>agnosticism but not too serious about it</td>\n",
              "      <td>m</td>\n",
              "      <td>cancer</td>\n",
              "      <td>no</td>\n",
              "      <td>english (fluently), spanish (poorly), french (...</td>\n",
              "      <td>single</td>\n",
              "    </tr>\n",
              "    <tr>\n",
              "      <th>2</th>\n",
              "      <td>38</td>\n",
              "      <td>thin</td>\n",
              "      <td>anything</td>\n",
              "      <td>socially</td>\n",
              "      <td>NaN</td>\n",
              "      <td>graduated from masters program</td>\n",
              "      <td>i'm not ashamed of much, but writing public te...</td>\n",
              "      <td>i make nerdy software for musicians, artists, ...</td>\n",
              "      <td>improvising in different contexts. alternating...</td>\n",
              "      <td>my large jaw and large glasses are the physica...</td>\n",
              "      <td>...</td>\n",
              "      <td>san francisco, california</td>\n",
              "      <td>NaN</td>\n",
              "      <td>straight</td>\n",
              "      <td>has cats</td>\n",
              "      <td>NaN</td>\n",
              "      <td>m</td>\n",
              "      <td>pisces but it doesn&amp;rsquo;t matter</td>\n",
              "      <td>no</td>\n",
              "      <td>english, french, c++</td>\n",
              "      <td>available</td>\n",
              "    </tr>\n",
              "    <tr>\n",
              "      <th>3</th>\n",
              "      <td>23</td>\n",
              "      <td>thin</td>\n",
              "      <td>vegetarian</td>\n",
              "      <td>socially</td>\n",
              "      <td>NaN</td>\n",
              "      <td>working on college/university</td>\n",
              "      <td>i work in a library and go to school. . .</td>\n",
              "      <td>reading things written by old dead people</td>\n",
              "      <td>playing synthesizers and organizing books acco...</td>\n",
              "      <td>socially awkward but i do my best</td>\n",
              "      <td>...</td>\n",
              "      <td>berkeley, california</td>\n",
              "      <td>doesn&amp;rsquo;t want kids</td>\n",
              "      <td>straight</td>\n",
              "      <td>likes cats</td>\n",
              "      <td>NaN</td>\n",
              "      <td>m</td>\n",
              "      <td>pisces</td>\n",
              "      <td>no</td>\n",
              "      <td>english, german (poorly)</td>\n",
              "      <td>single</td>\n",
              "    </tr>\n",
              "    <tr>\n",
              "      <th>4</th>\n",
              "      <td>29</td>\n",
              "      <td>athletic</td>\n",
              "      <td>NaN</td>\n",
              "      <td>socially</td>\n",
              "      <td>never</td>\n",
              "      <td>graduated from college/university</td>\n",
              "      <td>hey how's it going? currently vague on the pro...</td>\n",
              "      <td>work work work work + play</td>\n",
              "      <td>creating imagery to look at:&lt;br /&gt;\\nhttp://bag...</td>\n",
              "      <td>i smile a lot and my inquisitive nature</td>\n",
              "      <td>...</td>\n",
              "      <td>san francisco, california</td>\n",
              "      <td>NaN</td>\n",
              "      <td>straight</td>\n",
              "      <td>likes dogs and likes cats</td>\n",
              "      <td>NaN</td>\n",
              "      <td>m</td>\n",
              "      <td>aquarius</td>\n",
              "      <td>no</td>\n",
              "      <td>english</td>\n",
              "      <td>single</td>\n",
              "    </tr>\n",
              "  </tbody>\n",
              "</table>\n",
              "<p>5 rows × 31 columns</p>\n",
              "</div>\n",
              "    <div class=\"colab-df-buttons\">\n",
              "\n",
              "  <div class=\"colab-df-container\">\n",
              "    <button class=\"colab-df-convert\" onclick=\"convertToInteractive('df-6a3208b0-a1ef-4893-be54-3d9c43f27c4a')\"\n",
              "            title=\"Convert this dataframe to an interactive table.\"\n",
              "            style=\"display:none;\">\n",
              "\n",
              "  <svg xmlns=\"http://www.w3.org/2000/svg\" height=\"24px\" viewBox=\"0 -960 960 960\">\n",
              "    <path d=\"M120-120v-720h720v720H120Zm60-500h600v-160H180v160Zm220 220h160v-160H400v160Zm0 220h160v-160H400v160ZM180-400h160v-160H180v160Zm440 0h160v-160H620v160ZM180-180h160v-160H180v160Zm440 0h160v-160H620v160Z\"/>\n",
              "  </svg>\n",
              "    </button>\n",
              "\n",
              "  <style>\n",
              "    .colab-df-container {\n",
              "      display:flex;\n",
              "      gap: 12px;\n",
              "    }\n",
              "\n",
              "    .colab-df-convert {\n",
              "      background-color: #E8F0FE;\n",
              "      border: none;\n",
              "      border-radius: 50%;\n",
              "      cursor: pointer;\n",
              "      display: none;\n",
              "      fill: #1967D2;\n",
              "      height: 32px;\n",
              "      padding: 0 0 0 0;\n",
              "      width: 32px;\n",
              "    }\n",
              "\n",
              "    .colab-df-convert:hover {\n",
              "      background-color: #E2EBFA;\n",
              "      box-shadow: 0px 1px 2px rgba(60, 64, 67, 0.3), 0px 1px 3px 1px rgba(60, 64, 67, 0.15);\n",
              "      fill: #174EA6;\n",
              "    }\n",
              "\n",
              "    .colab-df-buttons div {\n",
              "      margin-bottom: 4px;\n",
              "    }\n",
              "\n",
              "    [theme=dark] .colab-df-convert {\n",
              "      background-color: #3B4455;\n",
              "      fill: #D2E3FC;\n",
              "    }\n",
              "\n",
              "    [theme=dark] .colab-df-convert:hover {\n",
              "      background-color: #434B5C;\n",
              "      box-shadow: 0px 1px 3px 1px rgba(0, 0, 0, 0.15);\n",
              "      filter: drop-shadow(0px 1px 2px rgba(0, 0, 0, 0.3));\n",
              "      fill: #FFFFFF;\n",
              "    }\n",
              "  </style>\n",
              "\n",
              "    <script>\n",
              "      const buttonEl =\n",
              "        document.querySelector('#df-6a3208b0-a1ef-4893-be54-3d9c43f27c4a button.colab-df-convert');\n",
              "      buttonEl.style.display =\n",
              "        google.colab.kernel.accessAllowed ? 'block' : 'none';\n",
              "\n",
              "      async function convertToInteractive(key) {\n",
              "        const element = document.querySelector('#df-6a3208b0-a1ef-4893-be54-3d9c43f27c4a');\n",
              "        const dataTable =\n",
              "          await google.colab.kernel.invokeFunction('convertToInteractive',\n",
              "                                                    [key], {});\n",
              "        if (!dataTable) return;\n",
              "\n",
              "        const docLinkHtml = 'Like what you see? Visit the ' +\n",
              "          '<a target=\"_blank\" href=https://colab.research.google.com/notebooks/data_table.ipynb>data table notebook</a>'\n",
              "          + ' to learn more about interactive tables.';\n",
              "        element.innerHTML = '';\n",
              "        dataTable['output_type'] = 'display_data';\n",
              "        await google.colab.output.renderOutput(dataTable, element);\n",
              "        const docLink = document.createElement('div');\n",
              "        docLink.innerHTML = docLinkHtml;\n",
              "        element.appendChild(docLink);\n",
              "      }\n",
              "    </script>\n",
              "  </div>\n",
              "\n",
              "\n",
              "<div id=\"df-5ee0ced6-6d5a-4f57-acb4-abd582398c83\">\n",
              "  <button class=\"colab-df-quickchart\" onclick=\"quickchart('df-5ee0ced6-6d5a-4f57-acb4-abd582398c83')\"\n",
              "            title=\"Suggest charts.\"\n",
              "            style=\"display:none;\">\n",
              "\n",
              "<svg xmlns=\"http://www.w3.org/2000/svg\" height=\"24px\"viewBox=\"0 0 24 24\"\n",
              "     width=\"24px\">\n",
              "    <g>\n",
              "        <path d=\"M19 3H5c-1.1 0-2 .9-2 2v14c0 1.1.9 2 2 2h14c1.1 0 2-.9 2-2V5c0-1.1-.9-2-2-2zM9 17H7v-7h2v7zm4 0h-2V7h2v10zm4 0h-2v-4h2v4z\"/>\n",
              "    </g>\n",
              "</svg>\n",
              "  </button>\n",
              "\n",
              "<style>\n",
              "  .colab-df-quickchart {\n",
              "      --bg-color: #E8F0FE;\n",
              "      --fill-color: #1967D2;\n",
              "      --hover-bg-color: #E2EBFA;\n",
              "      --hover-fill-color: #174EA6;\n",
              "      --disabled-fill-color: #AAA;\n",
              "      --disabled-bg-color: #DDD;\n",
              "  }\n",
              "\n",
              "  [theme=dark] .colab-df-quickchart {\n",
              "      --bg-color: #3B4455;\n",
              "      --fill-color: #D2E3FC;\n",
              "      --hover-bg-color: #434B5C;\n",
              "      --hover-fill-color: #FFFFFF;\n",
              "      --disabled-bg-color: #3B4455;\n",
              "      --disabled-fill-color: #666;\n",
              "  }\n",
              "\n",
              "  .colab-df-quickchart {\n",
              "    background-color: var(--bg-color);\n",
              "    border: none;\n",
              "    border-radius: 50%;\n",
              "    cursor: pointer;\n",
              "    display: none;\n",
              "    fill: var(--fill-color);\n",
              "    height: 32px;\n",
              "    padding: 0;\n",
              "    width: 32px;\n",
              "  }\n",
              "\n",
              "  .colab-df-quickchart:hover {\n",
              "    background-color: var(--hover-bg-color);\n",
              "    box-shadow: 0 1px 2px rgba(60, 64, 67, 0.3), 0 1px 3px 1px rgba(60, 64, 67, 0.15);\n",
              "    fill: var(--button-hover-fill-color);\n",
              "  }\n",
              "\n",
              "  .colab-df-quickchart-complete:disabled,\n",
              "  .colab-df-quickchart-complete:disabled:hover {\n",
              "    background-color: var(--disabled-bg-color);\n",
              "    fill: var(--disabled-fill-color);\n",
              "    box-shadow: none;\n",
              "  }\n",
              "\n",
              "  .colab-df-spinner {\n",
              "    border: 2px solid var(--fill-color);\n",
              "    border-color: transparent;\n",
              "    border-bottom-color: var(--fill-color);\n",
              "    animation:\n",
              "      spin 1s steps(1) infinite;\n",
              "  }\n",
              "\n",
              "  @keyframes spin {\n",
              "    0% {\n",
              "      border-color: transparent;\n",
              "      border-bottom-color: var(--fill-color);\n",
              "      border-left-color: var(--fill-color);\n",
              "    }\n",
              "    20% {\n",
              "      border-color: transparent;\n",
              "      border-left-color: var(--fill-color);\n",
              "      border-top-color: var(--fill-color);\n",
              "    }\n",
              "    30% {\n",
              "      border-color: transparent;\n",
              "      border-left-color: var(--fill-color);\n",
              "      border-top-color: var(--fill-color);\n",
              "      border-right-color: var(--fill-color);\n",
              "    }\n",
              "    40% {\n",
              "      border-color: transparent;\n",
              "      border-right-color: var(--fill-color);\n",
              "      border-top-color: var(--fill-color);\n",
              "    }\n",
              "    60% {\n",
              "      border-color: transparent;\n",
              "      border-right-color: var(--fill-color);\n",
              "    }\n",
              "    80% {\n",
              "      border-color: transparent;\n",
              "      border-right-color: var(--fill-color);\n",
              "      border-bottom-color: var(--fill-color);\n",
              "    }\n",
              "    90% {\n",
              "      border-color: transparent;\n",
              "      border-bottom-color: var(--fill-color);\n",
              "    }\n",
              "  }\n",
              "</style>\n",
              "\n",
              "  <script>\n",
              "    async function quickchart(key) {\n",
              "      const quickchartButtonEl =\n",
              "        document.querySelector('#' + key + ' button');\n",
              "      quickchartButtonEl.disabled = true;  // To prevent multiple clicks.\n",
              "      quickchartButtonEl.classList.add('colab-df-spinner');\n",
              "      try {\n",
              "        const charts = await google.colab.kernel.invokeFunction(\n",
              "            'suggestCharts', [key], {});\n",
              "      } catch (error) {\n",
              "        console.error('Error during call to suggestCharts:', error);\n",
              "      }\n",
              "      quickchartButtonEl.classList.remove('colab-df-spinner');\n",
              "      quickchartButtonEl.classList.add('colab-df-quickchart-complete');\n",
              "    }\n",
              "    (() => {\n",
              "      let quickchartButtonEl =\n",
              "        document.querySelector('#df-5ee0ced6-6d5a-4f57-acb4-abd582398c83 button');\n",
              "      quickchartButtonEl.style.display =\n",
              "        google.colab.kernel.accessAllowed ? 'block' : 'none';\n",
              "    })();\n",
              "  </script>\n",
              "</div>\n",
              "    </div>\n",
              "  </div>\n"
            ]
          },
          "metadata": {},
          "execution_count": 5
        }
      ]
    },
    {
      "cell_type": "code",
      "source": [
        "df.info()"
      ],
      "metadata": {
        "colab": {
          "base_uri": "https://localhost:8080/"
        },
        "id": "8FBzTVUAxA3E",
        "outputId": "95fbcabc-df55-4a76-d4f9-3814fd3068c2"
      },
      "execution_count": 6,
      "outputs": [
        {
          "output_type": "stream",
          "name": "stdout",
          "text": [
            "<class 'pandas.core.frame.DataFrame'>\n",
            "RangeIndex: 59946 entries, 0 to 59945\n",
            "Data columns (total 31 columns):\n",
            " #   Column       Non-Null Count  Dtype  \n",
            "---  ------       --------------  -----  \n",
            " 0   age          59946 non-null  int64  \n",
            " 1   body_type    54650 non-null  object \n",
            " 2   diet         35551 non-null  object \n",
            " 3   drinks       56961 non-null  object \n",
            " 4   drugs        45866 non-null  object \n",
            " 5   education    53318 non-null  object \n",
            " 6   essay0       54458 non-null  object \n",
            " 7   essay1       52374 non-null  object \n",
            " 8   essay2       50308 non-null  object \n",
            " 9   essay3       48470 non-null  object \n",
            " 10  essay4       49409 non-null  object \n",
            " 11  essay5       49096 non-null  object \n",
            " 12  essay6       46175 non-null  object \n",
            " 13  essay7       47495 non-null  object \n",
            " 14  essay8       40721 non-null  object \n",
            " 15  essay9       47343 non-null  object \n",
            " 16  ethnicity    54266 non-null  object \n",
            " 17  height       59943 non-null  float64\n",
            " 18  income       59946 non-null  int64  \n",
            " 19  job          51748 non-null  object \n",
            " 20  last_online  59946 non-null  object \n",
            " 21  location     59946 non-null  object \n",
            " 22  offspring    24385 non-null  object \n",
            " 23  orientation  59946 non-null  object \n",
            " 24  pets         40025 non-null  object \n",
            " 25  religion     39720 non-null  object \n",
            " 26  sex          59946 non-null  object \n",
            " 27  sign         48890 non-null  object \n",
            " 28  smokes       54434 non-null  object \n",
            " 29  speaks       59896 non-null  object \n",
            " 30  status       59946 non-null  object \n",
            "dtypes: float64(1), int64(2), object(28)\n",
            "memory usage: 14.2+ MB\n"
          ]
        }
      ]
    },
    {
      "cell_type": "markdown",
      "source": [
        "There are 31 columns and 55946 rows in the data."
      ],
      "metadata": {
        "id": "rBDcjciY49QG"
      }
    },
    {
      "cell_type": "markdown",
      "source": [
        "Most of the data is not neat so data preprocessing needs to be done."
      ],
      "metadata": {
        "id": "DK2XnAny5Hn3"
      }
    },
    {
      "cell_type": "markdown",
      "source": [
        "# Data Preprocessing"
      ],
      "metadata": {
        "id": "DdIXmg1JdqLc"
      }
    },
    {
      "cell_type": "markdown",
      "source": [
        "## Feature Selection"
      ],
      "metadata": {
        "id": "686cYSXuIMmD"
      }
    },
    {
      "cell_type": "code",
      "source": [
        "# Essay\n",
        "columns_to_drop = ['essay0', 'essay1', 'essay2', 'essay3', 'essay4', 'essay5', 'essay6', 'essay7', 'essay8', 'essay9']\n",
        "df = df.drop(columns=columns_to_drop)"
      ],
      "metadata": {
        "id": "vkoMArihXKF2"
      },
      "execution_count": 7,
      "outputs": []
    },
    {
      "cell_type": "markdown",
      "source": [
        "The essays may contain free-text responses, which are challenging to convert into structured data for zodiac sign prediction. Dropping these columns will simplify the dataset while retaining other potentially relevant features for analysis."
      ],
      "metadata": {
        "id": "cDU5-nY36fzd"
      }
    },
    {
      "cell_type": "markdown",
      "source": [
        "## Data Manipulation"
      ],
      "metadata": {
        "id": "0vNzjff_5f1T"
      }
    },
    {
      "cell_type": "markdown",
      "source": [
        "Data manipulation is carried out in several columns to reduce diversity in the data. Some of these columns include:"
      ],
      "metadata": {
        "id": "I9nwo3vJ55nj"
      }
    },
    {
      "cell_type": "code",
      "source": [
        "# Body Type\n",
        "body_type_mapping = {\n",
        "    'a little extra': 'curvy',\n",
        "    'average': 'average',\n",
        "    'thin': 'thin',\n",
        "    'athletic': 'athletic',\n",
        "    'fit': 'athletic',\n",
        "    'skinny': 'thin',\n",
        "    'curvy': 'curvy',\n",
        "    'full figured': 'curvy',\n",
        "    'jacked': 'athletic',\n",
        "    'rather not say': 'other',\n",
        "    'used up': 'other',\n",
        "    'overweight': 'other',\n",
        "}\n",
        "\n",
        "df['body_type'] = df['body_type'].replace(body_type_mapping)"
      ],
      "metadata": {
        "id": "yO75m-R6aLHU"
      },
      "execution_count": 8,
      "outputs": []
    },
    {
      "cell_type": "code",
      "source": [
        "# Diet\n",
        "diet_mapping = {\n",
        "    'strictly anything': 'anything',\n",
        "    'mostly other': 'other',\n",
        "    'anything': 'anything',\n",
        "    'vegetarian': 'vegetarian',\n",
        "    'mostly anything': 'anything',\n",
        "    'mostly vegetarian': 'vegetarian',\n",
        "    'strictly vegan': 'vegan',\n",
        "    'strictly vegetarian': 'vegetarian',\n",
        "    'mostly vegan': 'vegan',\n",
        "    'strictly other': 'other',\n",
        "    'mostly halal': 'halal',\n",
        "    'other': 'other',\n",
        "    'vegan': 'vegan',\n",
        "    'mostly kosher': 'kosher',\n",
        "    'strictly halal': 'halal',\n",
        "    'halal': 'halal',\n",
        "    'strictly kosher': 'kosher',\n",
        "    'kosher': 'kosher',\n",
        "}\n",
        "\n",
        "df['diet'] = df['diet'].replace(diet_mapping)"
      ],
      "metadata": {
        "id": "dJvUjK1SZhe_"
      },
      "execution_count": 9,
      "outputs": []
    },
    {
      "cell_type": "code",
      "source": [
        "# Drinks\n",
        "drinks_mapping = {\n",
        "    'socially': 'yes',\n",
        "    'often': 'yes',\n",
        "    'not at all': 'no',\n",
        "    'rarely': 'yes',\n",
        "    'very often': 'yes',\n",
        "    'desperately': 'yes'\n",
        "}\n",
        "\n",
        "df['drinks'] = df['drinks'].replace(drinks_mapping)"
      ],
      "metadata": {
        "id": "TCDugBZnX-o7"
      },
      "execution_count": 10,
      "outputs": []
    },
    {
      "cell_type": "code",
      "source": [
        "# Drugs\n",
        "drugs_mapping = {\n",
        "    'never': 'no',\n",
        "    'sometimes': 'yes',\n",
        "    'often' : 'yes'\n",
        "}\n",
        "\n",
        "df['drugs'] = df['drugs'].replace(drugs_mapping)"
      ],
      "metadata": {
        "id": "vSbIWDqCXo_n"
      },
      "execution_count": 11,
      "outputs": []
    },
    {
      "cell_type": "code",
      "source": [
        "# Education\n",
        "education_mapping = {\n",
        "    'working on college/university': 'college/university',\n",
        "    'working on space camp': 'space camp',\n",
        "    'graduated from masters program': 'masters program',\n",
        "    'graduated from college/university': 'college/university',\n",
        "    'working on two-year college': 'two-year college',\n",
        "    'graduated from high school': 'high school',\n",
        "    'working on masters program': 'masters program',\n",
        "    'graduated from space camp': 'space camp',\n",
        "    'college/university': 'college/university',\n",
        "    'dropped out of space camp': 'space camp',\n",
        "    'graduated from ph.d program': 'ph.d program',\n",
        "    'graduated from law school': 'law school',\n",
        "    'working on ph.d program': 'ph.d program',\n",
        "    'two-year college': 'two-year college',\n",
        "    'graduated from two-year college': 'two-year college',\n",
        "    'working on med school': 'med school',\n",
        "    'dropped out of college/university': 'college/university',\n",
        "    'space camp': 'space camp',\n",
        "    'graduated from med school': 'med school',\n",
        "    'dropped out of high school': 'high school',\n",
        "    'working on high school': 'high school',\n",
        "    'masters program': 'masters program',\n",
        "    'dropped out of ph.d program': 'ph.d program',\n",
        "    'dropped out of two-year college': 'two-year college',\n",
        "    'dropped out of med school': 'med school',\n",
        "    'high school': 'high school',\n",
        "    'working on law school': 'law school',\n",
        "    'law school': 'law school',\n",
        "    'dropped out of masters program': 'masters program',\n",
        "    'ph.d program': 'ph.d program',\n",
        "    'dropped out of law school': 'law school',\n",
        "    'med school': 'med school',\n",
        "}\n",
        "\n",
        "df['education'] = df['education'].replace(education_mapping)"
      ],
      "metadata": {
        "id": "8bmiEludZB74"
      },
      "execution_count": 12,
      "outputs": []
    },
    {
      "cell_type": "code",
      "source": [
        "# Ethnicity\n",
        "df['ethnicity'].fillna('', inplace=True)\n",
        "df['ethnicity'] = df['ethnicity'].apply(lambda x: [e.strip() for e in x.split(',')])\n",
        "df = df.explode('ethnicity')\n",
        "df.reset_index(drop=True, inplace=True)"
      ],
      "metadata": {
        "id": "wcDk7d7RVwOx"
      },
      "execution_count": 13,
      "outputs": []
    },
    {
      "cell_type": "code",
      "source": [
        "# Job\n",
        "job_mapping = {\n",
        "    'transportation': 'Other',\n",
        "    'hospitality / travel': 'Other',\n",
        "    'artistic / musical / writer': 'Arts & Media',\n",
        "    'computer / hardware / software': 'Technology',\n",
        "    'banking / financial / real estate': 'Business & Finance',\n",
        "    'entertainment / media': 'Arts & Media',\n",
        "    'sales / marketing / biz dev': 'Business & Finance',\n",
        "    'other': 'Other',\n",
        "    'medicine / health': 'Healthcare',\n",
        "    'science / tech / engineering': 'Technology',\n",
        "    'executive / management': 'Business & Finance',\n",
        "    'education / academia': 'Education',\n",
        "    'clerical / administrative': 'Business & Finance',\n",
        "    'construction / craftsmanship': 'Construction',\n",
        "    'rather not say': 'Other',\n",
        "    'political / government': 'Government',\n",
        "    'law / legal services': 'Legal',\n",
        "    'unemployed': 'Other',\n",
        "    'military': 'Other',\n",
        "    'retired': 'Other'\n",
        "}\n",
        "\n",
        "df['job'] = df['job'].map(job_mapping)"
      ],
      "metadata": {
        "id": "ZTKLIkhzGXEH"
      },
      "execution_count": 14,
      "outputs": []
    },
    {
      "cell_type": "code",
      "source": [
        "# Location\n",
        "df['location'] = df['location'].str.split(',').str[-1].str.strip()"
      ],
      "metadata": {
        "id": "aQL7FzH4Fr9u"
      },
      "execution_count": 15,
      "outputs": []
    },
    {
      "cell_type": "code",
      "source": [
        "# Offspring\n",
        "offspring_mapping = {\n",
        "    'doesn&rsquo;t have kids, but might want them': 'have no kids',\n",
        "    'doesn&rsquo;t want kids': 'other',\n",
        "    'doesn&rsquo;t have kids, but wants them': 'have no kids',\n",
        "    'doesn&rsquo;t have kids, but might want them': 'have no kids',\n",
        "    'wants kids': 'other',\n",
        "    'has a kid': 'have kids',\n",
        "    'has kids': 'have kids',\n",
        "    'doesn&rsquo;t have kids, and doesn&rsquo;t want any': 'have no kids',\n",
        "    'has kids, but doesn&rsquo;t want more': 'have kids',\n",
        "    'has a kid, but doesn&rsquo;t want more': 'have kids',\n",
        "    'might want kids': 'other',\n",
        "    'has a kid, and might want more': 'have kids',\n",
        "    'has kids, and wants more': 'have kids',\n",
        "    'doesn&rsquo;t have kids': 'have no kids',\n",
        "    'has a kid, and wants more': 'have kids',\n",
        "    'has kids, and might want more': 'have kids'\n",
        "}\n",
        "\n",
        "df['offspring'] = df['offspring'].replace(offspring_mapping)"
      ],
      "metadata": {
        "id": "iCsum8lWEdtQ"
      },
      "execution_count": 16,
      "outputs": []
    },
    {
      "cell_type": "code",
      "source": [
        "# Pets\n",
        "df['pets'].fillna('', inplace=True)\n",
        "df['pets'] = df['pets'].apply(lambda x: [e.strip() for e in x.split('and')])\n",
        "df = df.explode('pets')\n",
        "df.reset_index(drop=True, inplace=True)"
      ],
      "metadata": {
        "id": "6jEjrbpqDzrr"
      },
      "execution_count": 17,
      "outputs": []
    },
    {
      "cell_type": "code",
      "source": [
        "# Religion\n",
        "df['religion'] = df['religion'].str.extract(r'([a-zA-Z]+)')"
      ],
      "metadata": {
        "id": "RISWcaXNDjOM"
      },
      "execution_count": 18,
      "outputs": []
    },
    {
      "cell_type": "code",
      "source": [
        "# Sign\n",
        "df['sign'] = df['sign'].str.extract(r'([a-zA-Z]+)')"
      ],
      "metadata": {
        "id": "XZ25BKfMDFi1"
      },
      "execution_count": 19,
      "outputs": []
    },
    {
      "cell_type": "code",
      "source": [
        "# Smokes\n",
        "smoking_mapping = {\n",
        "    'sometimes': 'yes',\n",
        "    'when drinking': 'yes',\n",
        "    'trying to quit': 'yes'\n",
        "}\n",
        "\n",
        "df['smokes'] = df['smokes'].replace(smoking_mapping)"
      ],
      "metadata": {
        "id": "zTTQOaw_81X5"
      },
      "execution_count": 20,
      "outputs": []
    },
    {
      "cell_type": "code",
      "source": [
        "# Speaks\n",
        "df['speaks'].fillna('', inplace=True)\n",
        "\n",
        "def split_and_clean_languages(languages):\n",
        "    languages = [re.sub(r'\\(.*\\)', '', lang).strip() for lang in languages.split(',')]\n",
        "    return [lang.strip() for lang in languages if lang]\n",
        "\n",
        "df['speaks'] = df['speaks'].apply(split_and_clean_languages)\n",
        "df = df.explode('speaks')\n",
        "df.reset_index(drop=True, inplace=True)"
      ],
      "metadata": {
        "id": "i9xeMm9p58do"
      },
      "execution_count": 21,
      "outputs": []
    },
    {
      "cell_type": "code",
      "source": [
        "# Status\n",
        "status_mapping = {\n",
        "    'available': 'single',\n",
        "    'seeing someone': 'married',\n",
        "    'unknown' : np.nan\n",
        "}\n",
        "\n",
        "df['status'] = df['status'].replace(status_mapping)"
      ],
      "metadata": {
        "id": "IeKYrZrj9QMT"
      },
      "execution_count": 22,
      "outputs": []
    },
    {
      "cell_type": "markdown",
      "source": [
        "## Handling Missing Values"
      ],
      "metadata": {
        "id": "lsP107m96U32"
      }
    },
    {
      "cell_type": "code",
      "source": [
        "# Check missing value in profiles table\n",
        "df.isnull().sum()"
      ],
      "metadata": {
        "colab": {
          "base_uri": "https://localhost:8080/"
        },
        "id": "6OF05k1wUhKi",
        "outputId": "d14eb79e-cad7-4d95-d1f5-f46bbf076edb"
      },
      "execution_count": 23,
      "outputs": [
        {
          "output_type": "execute_result",
          "data": {
            "text/plain": [
              "age                 0\n",
              "body_type       15453\n",
              "diet            69899\n",
              "drinks           6919\n",
              "drugs           46520\n",
              "education       14834\n",
              "ethnicity           0\n",
              "height              4\n",
              "income              0\n",
              "job             37611\n",
              "last_online         0\n",
              "location            0\n",
              "offspring      110076\n",
              "orientation         0\n",
              "pets                0\n",
              "religion        52354\n",
              "sex                 0\n",
              "sign            26425\n",
              "smokes          14800\n",
              "speaks             73\n",
              "status             43\n",
              "dtype: int64"
            ]
          },
          "metadata": {},
          "execution_count": 23
        }
      ]
    },
    {
      "cell_type": "code",
      "source": [
        "df.dropna(inplace=True)"
      ],
      "metadata": {
        "id": "ewug6hZLUWGH"
      },
      "execution_count": 24,
      "outputs": []
    },
    {
      "cell_type": "markdown",
      "source": [
        "There are various missing values in the data, so rows that have missing values are deleted. The deletion technique is used because this technique is the fastest compared to other techniques."
      ],
      "metadata": {
        "id": "aBSohNoz7V3d"
      }
    },
    {
      "cell_type": "markdown",
      "source": [
        "## PyCaret Setup"
      ],
      "metadata": {
        "id": "ksLyJhsm7awB"
      }
    },
    {
      "cell_type": "markdown",
      "source": [
        "Create a setup in pycaret so that the data can be used for machine learning modeling"
      ],
      "metadata": {
        "id": "8Gt9raBi7quW"
      }
    },
    {
      "cell_type": "code",
      "source": [
        "s = setup(df, target='sign')"
      ],
      "metadata": {
        "colab": {
          "base_uri": "https://localhost:8080/",
          "height": 802
        },
        "id": "xz__gEtT227t",
        "outputId": "db155b63-65c9-4b5f-9f13-a3c41fd19d85"
      },
      "execution_count": 25,
      "outputs": [
        {
          "output_type": "display_data",
          "data": {
            "text/plain": [
              "<pandas.io.formats.style.Styler at 0x7b56bb12b5e0>"
            ],
            "text/html": [
              "<style type=\"text/css\">\n",
              "#T_cbc9d_row11_col1 {\n",
              "  background-color: lightgreen;\n",
              "}\n",
              "</style>\n",
              "<table id=\"T_cbc9d\" class=\"dataframe\">\n",
              "  <thead>\n",
              "    <tr>\n",
              "      <th class=\"blank level0\" >&nbsp;</th>\n",
              "      <th id=\"T_cbc9d_level0_col0\" class=\"col_heading level0 col0\" >Description</th>\n",
              "      <th id=\"T_cbc9d_level0_col1\" class=\"col_heading level0 col1\" >Value</th>\n",
              "    </tr>\n",
              "  </thead>\n",
              "  <tbody>\n",
              "    <tr>\n",
              "      <th id=\"T_cbc9d_level0_row0\" class=\"row_heading level0 row0\" >0</th>\n",
              "      <td id=\"T_cbc9d_row0_col0\" class=\"data row0 col0\" >Session id</td>\n",
              "      <td id=\"T_cbc9d_row0_col1\" class=\"data row0 col1\" >7024</td>\n",
              "    </tr>\n",
              "    <tr>\n",
              "      <th id=\"T_cbc9d_level0_row1\" class=\"row_heading level0 row1\" >1</th>\n",
              "      <td id=\"T_cbc9d_row1_col0\" class=\"data row1 col0\" >Target</td>\n",
              "      <td id=\"T_cbc9d_row1_col1\" class=\"data row1 col1\" >sign</td>\n",
              "    </tr>\n",
              "    <tr>\n",
              "      <th id=\"T_cbc9d_level0_row2\" class=\"row_heading level0 row2\" >2</th>\n",
              "      <td id=\"T_cbc9d_row2_col0\" class=\"data row2 col0\" >Target type</td>\n",
              "      <td id=\"T_cbc9d_row2_col1\" class=\"data row2 col1\" >Multiclass</td>\n",
              "    </tr>\n",
              "    <tr>\n",
              "      <th id=\"T_cbc9d_level0_row3\" class=\"row_heading level0 row3\" >3</th>\n",
              "      <td id=\"T_cbc9d_row3_col0\" class=\"data row3 col0\" >Target mapping</td>\n",
              "      <td id=\"T_cbc9d_row3_col1\" class=\"data row3 col1\" >aquarius: 0, aries: 1, cancer: 2, capricorn: 3, gemini: 4, leo: 5, libra: 6, pisces: 7, sagittarius: 8, scorpio: 9, taurus: 10, virgo: 11</td>\n",
              "    </tr>\n",
              "    <tr>\n",
              "      <th id=\"T_cbc9d_level0_row4\" class=\"row_heading level0 row4\" >4</th>\n",
              "      <td id=\"T_cbc9d_row4_col0\" class=\"data row4 col0\" >Original data shape</td>\n",
              "      <td id=\"T_cbc9d_row4_col1\" class=\"data row4 col1\" >(29895, 21)</td>\n",
              "    </tr>\n",
              "    <tr>\n",
              "      <th id=\"T_cbc9d_level0_row5\" class=\"row_heading level0 row5\" >5</th>\n",
              "      <td id=\"T_cbc9d_row5_col0\" class=\"data row5 col0\" >Transformed data shape</td>\n",
              "      <td id=\"T_cbc9d_row5_col1\" class=\"data row5 col1\" >(29895, 80)</td>\n",
              "    </tr>\n",
              "    <tr>\n",
              "      <th id=\"T_cbc9d_level0_row6\" class=\"row_heading level0 row6\" >6</th>\n",
              "      <td id=\"T_cbc9d_row6_col0\" class=\"data row6 col0\" >Transformed train set shape</td>\n",
              "      <td id=\"T_cbc9d_row6_col1\" class=\"data row6 col1\" >(20926, 80)</td>\n",
              "    </tr>\n",
              "    <tr>\n",
              "      <th id=\"T_cbc9d_level0_row7\" class=\"row_heading level0 row7\" >7</th>\n",
              "      <td id=\"T_cbc9d_row7_col0\" class=\"data row7 col0\" >Transformed test set shape</td>\n",
              "      <td id=\"T_cbc9d_row7_col1\" class=\"data row7 col1\" >(8969, 80)</td>\n",
              "    </tr>\n",
              "    <tr>\n",
              "      <th id=\"T_cbc9d_level0_row8\" class=\"row_heading level0 row8\" >8</th>\n",
              "      <td id=\"T_cbc9d_row8_col0\" class=\"data row8 col0\" >Ordinal features</td>\n",
              "      <td id=\"T_cbc9d_row8_col1\" class=\"data row8 col1\" >5</td>\n",
              "    </tr>\n",
              "    <tr>\n",
              "      <th id=\"T_cbc9d_level0_row9\" class=\"row_heading level0 row9\" >9</th>\n",
              "      <td id=\"T_cbc9d_row9_col0\" class=\"data row9 col0\" >Numeric features</td>\n",
              "      <td id=\"T_cbc9d_row9_col1\" class=\"data row9 col1\" >3</td>\n",
              "    </tr>\n",
              "    <tr>\n",
              "      <th id=\"T_cbc9d_level0_row10\" class=\"row_heading level0 row10\" >10</th>\n",
              "      <td id=\"T_cbc9d_row10_col0\" class=\"data row10 col0\" >Categorical features</td>\n",
              "      <td id=\"T_cbc9d_row10_col1\" class=\"data row10 col1\" >17</td>\n",
              "    </tr>\n",
              "    <tr>\n",
              "      <th id=\"T_cbc9d_level0_row11\" class=\"row_heading level0 row11\" >11</th>\n",
              "      <td id=\"T_cbc9d_row11_col0\" class=\"data row11 col0\" >Preprocess</td>\n",
              "      <td id=\"T_cbc9d_row11_col1\" class=\"data row11 col1\" >True</td>\n",
              "    </tr>\n",
              "    <tr>\n",
              "      <th id=\"T_cbc9d_level0_row12\" class=\"row_heading level0 row12\" >12</th>\n",
              "      <td id=\"T_cbc9d_row12_col0\" class=\"data row12 col0\" >Imputation type</td>\n",
              "      <td id=\"T_cbc9d_row12_col1\" class=\"data row12 col1\" >simple</td>\n",
              "    </tr>\n",
              "    <tr>\n",
              "      <th id=\"T_cbc9d_level0_row13\" class=\"row_heading level0 row13\" >13</th>\n",
              "      <td id=\"T_cbc9d_row13_col0\" class=\"data row13 col0\" >Numeric imputation</td>\n",
              "      <td id=\"T_cbc9d_row13_col1\" class=\"data row13 col1\" >mean</td>\n",
              "    </tr>\n",
              "    <tr>\n",
              "      <th id=\"T_cbc9d_level0_row14\" class=\"row_heading level0 row14\" >14</th>\n",
              "      <td id=\"T_cbc9d_row14_col0\" class=\"data row14 col0\" >Categorical imputation</td>\n",
              "      <td id=\"T_cbc9d_row14_col1\" class=\"data row14 col1\" >mode</td>\n",
              "    </tr>\n",
              "    <tr>\n",
              "      <th id=\"T_cbc9d_level0_row15\" class=\"row_heading level0 row15\" >15</th>\n",
              "      <td id=\"T_cbc9d_row15_col0\" class=\"data row15 col0\" >Maximum one-hot encoding</td>\n",
              "      <td id=\"T_cbc9d_row15_col1\" class=\"data row15 col1\" >25</td>\n",
              "    </tr>\n",
              "    <tr>\n",
              "      <th id=\"T_cbc9d_level0_row16\" class=\"row_heading level0 row16\" >16</th>\n",
              "      <td id=\"T_cbc9d_row16_col0\" class=\"data row16 col0\" >Encoding method</td>\n",
              "      <td id=\"T_cbc9d_row16_col1\" class=\"data row16 col1\" >None</td>\n",
              "    </tr>\n",
              "    <tr>\n",
              "      <th id=\"T_cbc9d_level0_row17\" class=\"row_heading level0 row17\" >17</th>\n",
              "      <td id=\"T_cbc9d_row17_col0\" class=\"data row17 col0\" >Fold Generator</td>\n",
              "      <td id=\"T_cbc9d_row17_col1\" class=\"data row17 col1\" >StratifiedKFold</td>\n",
              "    </tr>\n",
              "    <tr>\n",
              "      <th id=\"T_cbc9d_level0_row18\" class=\"row_heading level0 row18\" >18</th>\n",
              "      <td id=\"T_cbc9d_row18_col0\" class=\"data row18 col0\" >Fold Number</td>\n",
              "      <td id=\"T_cbc9d_row18_col1\" class=\"data row18 col1\" >10</td>\n",
              "    </tr>\n",
              "    <tr>\n",
              "      <th id=\"T_cbc9d_level0_row19\" class=\"row_heading level0 row19\" >19</th>\n",
              "      <td id=\"T_cbc9d_row19_col0\" class=\"data row19 col0\" >CPU Jobs</td>\n",
              "      <td id=\"T_cbc9d_row19_col1\" class=\"data row19 col1\" >-1</td>\n",
              "    </tr>\n",
              "    <tr>\n",
              "      <th id=\"T_cbc9d_level0_row20\" class=\"row_heading level0 row20\" >20</th>\n",
              "      <td id=\"T_cbc9d_row20_col0\" class=\"data row20 col0\" >Use GPU</td>\n",
              "      <td id=\"T_cbc9d_row20_col1\" class=\"data row20 col1\" >False</td>\n",
              "    </tr>\n",
              "    <tr>\n",
              "      <th id=\"T_cbc9d_level0_row21\" class=\"row_heading level0 row21\" >21</th>\n",
              "      <td id=\"T_cbc9d_row21_col0\" class=\"data row21 col0\" >Log Experiment</td>\n",
              "      <td id=\"T_cbc9d_row21_col1\" class=\"data row21 col1\" >False</td>\n",
              "    </tr>\n",
              "    <tr>\n",
              "      <th id=\"T_cbc9d_level0_row22\" class=\"row_heading level0 row22\" >22</th>\n",
              "      <td id=\"T_cbc9d_row22_col0\" class=\"data row22 col0\" >Experiment Name</td>\n",
              "      <td id=\"T_cbc9d_row22_col1\" class=\"data row22 col1\" >clf-default-name</td>\n",
              "    </tr>\n",
              "    <tr>\n",
              "      <th id=\"T_cbc9d_level0_row23\" class=\"row_heading level0 row23\" >23</th>\n",
              "      <td id=\"T_cbc9d_row23_col0\" class=\"data row23 col0\" >USI</td>\n",
              "      <td id=\"T_cbc9d_row23_col1\" class=\"data row23 col1\" >b192</td>\n",
              "    </tr>\n",
              "  </tbody>\n",
              "</table>\n"
            ]
          },
          "metadata": {}
        }
      ]
    },
    {
      "cell_type": "markdown",
      "source": [
        "# Model Training"
      ],
      "metadata": {
        "id": "_A_Hevy-AMfK"
      }
    },
    {
      "cell_type": "code",
      "source": [
        "best_model = compare_models()"
      ],
      "metadata": {
        "colab": {
          "base_uri": "https://localhost:8080/",
          "height": 519,
          "referenced_widgets": [
            "b95b10d78cbd49b2b563c8d9546f2ca5",
            "d99e18c3a6ed4d539663139731f766a7",
            "d75a6edb65e14ad997f33f64222a3cf2",
            "976897c9b28c4a4ba40a82af0a84d682",
            "508a1e3aac374c06aaba4f2677d36296",
            "294031620d1b4ad3a88498152bfc5723",
            "372736ddb2634709ac9fff69e2aadf7f",
            "23f8e8f0cd374fd9b81ee144e418eb68",
            "f2650a6f21394ce2aa620ba728c01d56",
            "4d065c2c35564f8585e3030a345de1fa",
            "5efd536f77244bce8b240a1bcb6187e8"
          ]
        },
        "id": "9NvCJJU228Mc",
        "outputId": "d741b141-b37e-423b-d35f-656057815959"
      },
      "execution_count": 26,
      "outputs": [
        {
          "output_type": "display_data",
          "data": {
            "text/plain": [
              "<IPython.core.display.HTML object>"
            ],
            "text/html": []
          },
          "metadata": {}
        },
        {
          "output_type": "display_data",
          "data": {
            "text/plain": [
              "<pandas.io.formats.style.Styler at 0x7b56d6772140>"
            ],
            "text/html": [
              "<style type=\"text/css\">\n",
              "#T_f7251 th {\n",
              "  text-align: left;\n",
              "}\n",
              "#T_f7251_row0_col0, #T_f7251_row0_col2, #T_f7251_row1_col0, #T_f7251_row1_col1, #T_f7251_row1_col3, #T_f7251_row1_col4, #T_f7251_row1_col5, #T_f7251_row1_col6, #T_f7251_row1_col7, #T_f7251_row2_col0, #T_f7251_row2_col1, #T_f7251_row2_col2, #T_f7251_row2_col3, #T_f7251_row2_col4, #T_f7251_row2_col5, #T_f7251_row2_col6, #T_f7251_row2_col7, #T_f7251_row3_col0, #T_f7251_row3_col1, #T_f7251_row3_col2, #T_f7251_row3_col3, #T_f7251_row3_col4, #T_f7251_row3_col5, #T_f7251_row3_col6, #T_f7251_row3_col7, #T_f7251_row4_col0, #T_f7251_row4_col1, #T_f7251_row4_col2, #T_f7251_row4_col3, #T_f7251_row4_col4, #T_f7251_row4_col5, #T_f7251_row4_col6, #T_f7251_row4_col7, #T_f7251_row5_col0, #T_f7251_row5_col1, #T_f7251_row5_col2, #T_f7251_row5_col3, #T_f7251_row5_col4, #T_f7251_row5_col5, #T_f7251_row5_col6, #T_f7251_row5_col7, #T_f7251_row6_col0, #T_f7251_row6_col1, #T_f7251_row6_col2, #T_f7251_row6_col3, #T_f7251_row6_col4, #T_f7251_row6_col5, #T_f7251_row6_col6, #T_f7251_row6_col7, #T_f7251_row7_col0, #T_f7251_row7_col1, #T_f7251_row7_col2, #T_f7251_row7_col3, #T_f7251_row7_col4, #T_f7251_row7_col5, #T_f7251_row7_col6, #T_f7251_row7_col7, #T_f7251_row8_col0, #T_f7251_row8_col1, #T_f7251_row8_col2, #T_f7251_row8_col3, #T_f7251_row8_col4, #T_f7251_row8_col5, #T_f7251_row8_col6, #T_f7251_row8_col7, #T_f7251_row9_col0, #T_f7251_row9_col1, #T_f7251_row9_col2, #T_f7251_row9_col3, #T_f7251_row9_col4, #T_f7251_row9_col5, #T_f7251_row9_col6, #T_f7251_row9_col7, #T_f7251_row10_col0, #T_f7251_row10_col1, #T_f7251_row10_col2, #T_f7251_row10_col3, #T_f7251_row10_col4, #T_f7251_row10_col5, #T_f7251_row10_col6, #T_f7251_row10_col7, #T_f7251_row11_col0, #T_f7251_row11_col1, #T_f7251_row11_col2, #T_f7251_row11_col3, #T_f7251_row11_col4, #T_f7251_row11_col5, #T_f7251_row11_col6, #T_f7251_row11_col7, #T_f7251_row12_col0, #T_f7251_row12_col1, #T_f7251_row12_col2, #T_f7251_row12_col3, #T_f7251_row12_col4, #T_f7251_row12_col5, #T_f7251_row12_col6, #T_f7251_row12_col7, #T_f7251_row13_col0, #T_f7251_row13_col1, #T_f7251_row13_col2, #T_f7251_row13_col3, #T_f7251_row13_col4, #T_f7251_row13_col5, #T_f7251_row13_col6, #T_f7251_row13_col7, #T_f7251_row14_col0, #T_f7251_row14_col1, #T_f7251_row14_col2, #T_f7251_row14_col3, #T_f7251_row14_col4, #T_f7251_row14_col5, #T_f7251_row14_col6, #T_f7251_row14_col7 {\n",
              "  text-align: left;\n",
              "}\n",
              "#T_f7251_row0_col1, #T_f7251_row0_col3, #T_f7251_row0_col4, #T_f7251_row0_col5, #T_f7251_row0_col6, #T_f7251_row0_col7, #T_f7251_row1_col2 {\n",
              "  text-align: left;\n",
              "  background-color: yellow;\n",
              "}\n",
              "#T_f7251_row0_col8, #T_f7251_row1_col8, #T_f7251_row2_col8, #T_f7251_row3_col8, #T_f7251_row4_col8, #T_f7251_row5_col8, #T_f7251_row6_col8, #T_f7251_row7_col8, #T_f7251_row8_col8, #T_f7251_row10_col8, #T_f7251_row11_col8, #T_f7251_row12_col8, #T_f7251_row13_col8, #T_f7251_row14_col8 {\n",
              "  text-align: left;\n",
              "  background-color: lightgrey;\n",
              "}\n",
              "#T_f7251_row9_col8 {\n",
              "  text-align: left;\n",
              "  background-color: yellow;\n",
              "  background-color: lightgrey;\n",
              "}\n",
              "</style>\n",
              "<table id=\"T_f7251\" class=\"dataframe\">\n",
              "  <thead>\n",
              "    <tr>\n",
              "      <th class=\"blank level0\" >&nbsp;</th>\n",
              "      <th id=\"T_f7251_level0_col0\" class=\"col_heading level0 col0\" >Model</th>\n",
              "      <th id=\"T_f7251_level0_col1\" class=\"col_heading level0 col1\" >Accuracy</th>\n",
              "      <th id=\"T_f7251_level0_col2\" class=\"col_heading level0 col2\" >AUC</th>\n",
              "      <th id=\"T_f7251_level0_col3\" class=\"col_heading level0 col3\" >Recall</th>\n",
              "      <th id=\"T_f7251_level0_col4\" class=\"col_heading level0 col4\" >Prec.</th>\n",
              "      <th id=\"T_f7251_level0_col5\" class=\"col_heading level0 col5\" >F1</th>\n",
              "      <th id=\"T_f7251_level0_col6\" class=\"col_heading level0 col6\" >Kappa</th>\n",
              "      <th id=\"T_f7251_level0_col7\" class=\"col_heading level0 col7\" >MCC</th>\n",
              "      <th id=\"T_f7251_level0_col8\" class=\"col_heading level0 col8\" >TT (Sec)</th>\n",
              "    </tr>\n",
              "  </thead>\n",
              "  <tbody>\n",
              "    <tr>\n",
              "      <th id=\"T_f7251_level0_row0\" class=\"row_heading level0 row0\" >rf</th>\n",
              "      <td id=\"T_f7251_row0_col0\" class=\"data row0 col0\" >Random Forest Classifier</td>\n",
              "      <td id=\"T_f7251_row0_col1\" class=\"data row0 col1\" >0.8769</td>\n",
              "      <td id=\"T_f7251_row0_col2\" class=\"data row0 col2\" >0.9732</td>\n",
              "      <td id=\"T_f7251_row0_col3\" class=\"data row0 col3\" >0.8769</td>\n",
              "      <td id=\"T_f7251_row0_col4\" class=\"data row0 col4\" >0.8914</td>\n",
              "      <td id=\"T_f7251_row0_col5\" class=\"data row0 col5\" >0.8805</td>\n",
              "      <td id=\"T_f7251_row0_col6\" class=\"data row0 col6\" >0.8657</td>\n",
              "      <td id=\"T_f7251_row0_col7\" class=\"data row0 col7\" >0.8666</td>\n",
              "      <td id=\"T_f7251_row0_col8\" class=\"data row0 col8\" >5.6280</td>\n",
              "    </tr>\n",
              "    <tr>\n",
              "      <th id=\"T_f7251_level0_row1\" class=\"row_heading level0 row1\" >et</th>\n",
              "      <td id=\"T_f7251_row1_col0\" class=\"data row1 col0\" >Extra Trees Classifier</td>\n",
              "      <td id=\"T_f7251_row1_col1\" class=\"data row1 col1\" >0.8755</td>\n",
              "      <td id=\"T_f7251_row1_col2\" class=\"data row1 col2\" >0.9824</td>\n",
              "      <td id=\"T_f7251_row1_col3\" class=\"data row1 col3\" >0.8755</td>\n",
              "      <td id=\"T_f7251_row1_col4\" class=\"data row1 col4\" >0.8774</td>\n",
              "      <td id=\"T_f7251_row1_col5\" class=\"data row1 col5\" >0.8757</td>\n",
              "      <td id=\"T_f7251_row1_col6\" class=\"data row1 col6\" >0.8640</td>\n",
              "      <td id=\"T_f7251_row1_col7\" class=\"data row1 col7\" >0.8642</td>\n",
              "      <td id=\"T_f7251_row1_col8\" class=\"data row1 col8\" >7.1640</td>\n",
              "    </tr>\n",
              "    <tr>\n",
              "      <th id=\"T_f7251_level0_row2\" class=\"row_heading level0 row2\" >dt</th>\n",
              "      <td id=\"T_f7251_row2_col0\" class=\"data row2 col0\" >Decision Tree Classifier</td>\n",
              "      <td id=\"T_f7251_row2_col1\" class=\"data row2 col1\" >0.8651</td>\n",
              "      <td id=\"T_f7251_row2_col2\" class=\"data row2 col2\" >0.9263</td>\n",
              "      <td id=\"T_f7251_row2_col3\" class=\"data row2 col3\" >0.8651</td>\n",
              "      <td id=\"T_f7251_row2_col4\" class=\"data row2 col4\" >0.8673</td>\n",
              "      <td id=\"T_f7251_row2_col5\" class=\"data row2 col5\" >0.8655</td>\n",
              "      <td id=\"T_f7251_row2_col6\" class=\"data row2 col6\" >0.8527</td>\n",
              "      <td id=\"T_f7251_row2_col7\" class=\"data row2 col7\" >0.8529</td>\n",
              "      <td id=\"T_f7251_row2_col8\" class=\"data row2 col8\" >1.7160</td>\n",
              "    </tr>\n",
              "    <tr>\n",
              "      <th id=\"T_f7251_level0_row3\" class=\"row_heading level0 row3\" >lightgbm</th>\n",
              "      <td id=\"T_f7251_row3_col0\" class=\"data row3 col0\" >Light Gradient Boosting Machine</td>\n",
              "      <td id=\"T_f7251_row3_col1\" class=\"data row3 col1\" >0.8298</td>\n",
              "      <td id=\"T_f7251_row3_col2\" class=\"data row3 col2\" >0.9624</td>\n",
              "      <td id=\"T_f7251_row3_col3\" class=\"data row3 col3\" >0.8298</td>\n",
              "      <td id=\"T_f7251_row3_col4\" class=\"data row3 col4\" >0.8402</td>\n",
              "      <td id=\"T_f7251_row3_col5\" class=\"data row3 col5\" >0.8322</td>\n",
              "      <td id=\"T_f7251_row3_col6\" class=\"data row3 col6\" >0.8142</td>\n",
              "      <td id=\"T_f7251_row3_col7\" class=\"data row3 col7\" >0.8148</td>\n",
              "      <td id=\"T_f7251_row3_col8\" class=\"data row3 col8\" >14.3430</td>\n",
              "    </tr>\n",
              "    <tr>\n",
              "      <th id=\"T_f7251_level0_row4\" class=\"row_heading level0 row4\" >xgboost</th>\n",
              "      <td id=\"T_f7251_row4_col0\" class=\"data row4 col0\" >Extreme Gradient Boosting</td>\n",
              "      <td id=\"T_f7251_row4_col1\" class=\"data row4 col1\" >0.8234</td>\n",
              "      <td id=\"T_f7251_row4_col2\" class=\"data row4 col2\" >0.9622</td>\n",
              "      <td id=\"T_f7251_row4_col3\" class=\"data row4 col3\" >0.8234</td>\n",
              "      <td id=\"T_f7251_row4_col4\" class=\"data row4 col4\" >0.8319</td>\n",
              "      <td id=\"T_f7251_row4_col5\" class=\"data row4 col5\" >0.8252</td>\n",
              "      <td id=\"T_f7251_row4_col6\" class=\"data row4 col6\" >0.8072</td>\n",
              "      <td id=\"T_f7251_row4_col7\" class=\"data row4 col7\" >0.8077</td>\n",
              "      <td id=\"T_f7251_row4_col8\" class=\"data row4 col8\" >8.3810</td>\n",
              "    </tr>\n",
              "    <tr>\n",
              "      <th id=\"T_f7251_level0_row5\" class=\"row_heading level0 row5\" >gbc</th>\n",
              "      <td id=\"T_f7251_row5_col0\" class=\"data row5 col0\" >Gradient Boosting Classifier</td>\n",
              "      <td id=\"T_f7251_row5_col1\" class=\"data row5 col1\" >0.6484</td>\n",
              "      <td id=\"T_f7251_row5_col2\" class=\"data row5 col2\" >0.9081</td>\n",
              "      <td id=\"T_f7251_row5_col3\" class=\"data row5 col3\" >0.6484</td>\n",
              "      <td id=\"T_f7251_row5_col4\" class=\"data row5 col4\" >0.6777</td>\n",
              "      <td id=\"T_f7251_row5_col5\" class=\"data row5 col5\" >0.6547</td>\n",
              "      <td id=\"T_f7251_row5_col6\" class=\"data row5 col6\" >0.6159</td>\n",
              "      <td id=\"T_f7251_row5_col7\" class=\"data row5 col7\" >0.6178</td>\n",
              "      <td id=\"T_f7251_row5_col8\" class=\"data row5 col8\" >59.1390</td>\n",
              "    </tr>\n",
              "    <tr>\n",
              "      <th id=\"T_f7251_level0_row6\" class=\"row_heading level0 row6\" >knn</th>\n",
              "      <td id=\"T_f7251_row6_col0\" class=\"data row6 col0\" >K Neighbors Classifier</td>\n",
              "      <td id=\"T_f7251_row6_col1\" class=\"data row6 col1\" >0.6414</td>\n",
              "      <td id=\"T_f7251_row6_col2\" class=\"data row6 col2\" >0.9218</td>\n",
              "      <td id=\"T_f7251_row6_col3\" class=\"data row6 col3\" >0.6414</td>\n",
              "      <td id=\"T_f7251_row6_col4\" class=\"data row6 col4\" >0.6476</td>\n",
              "      <td id=\"T_f7251_row6_col5\" class=\"data row6 col5\" >0.6414</td>\n",
              "      <td id=\"T_f7251_row6_col6\" class=\"data row6 col6\" >0.6085</td>\n",
              "      <td id=\"T_f7251_row6_col7\" class=\"data row6 col7\" >0.6089</td>\n",
              "      <td id=\"T_f7251_row6_col8\" class=\"data row6 col8\" >1.9850</td>\n",
              "    </tr>\n",
              "    <tr>\n",
              "      <th id=\"T_f7251_level0_row7\" class=\"row_heading level0 row7\" >ada</th>\n",
              "      <td id=\"T_f7251_row7_col0\" class=\"data row7 col0\" >Ada Boost Classifier</td>\n",
              "      <td id=\"T_f7251_row7_col1\" class=\"data row7 col1\" >0.3837</td>\n",
              "      <td id=\"T_f7251_row7_col2\" class=\"data row7 col2\" >0.7924</td>\n",
              "      <td id=\"T_f7251_row7_col3\" class=\"data row7 col3\" >0.3837</td>\n",
              "      <td id=\"T_f7251_row7_col4\" class=\"data row7 col4\" >0.3910</td>\n",
              "      <td id=\"T_f7251_row7_col5\" class=\"data row7 col5\" >0.3771</td>\n",
              "      <td id=\"T_f7251_row7_col6\" class=\"data row7 col6\" >0.3270</td>\n",
              "      <td id=\"T_f7251_row7_col7\" class=\"data row7 col7\" >0.3290</td>\n",
              "      <td id=\"T_f7251_row7_col8\" class=\"data row7 col8\" >2.8810</td>\n",
              "    </tr>\n",
              "    <tr>\n",
              "      <th id=\"T_f7251_level0_row8\" class=\"row_heading level0 row8\" >lda</th>\n",
              "      <td id=\"T_f7251_row8_col0\" class=\"data row8 col0\" >Linear Discriminant Analysis</td>\n",
              "      <td id=\"T_f7251_row8_col1\" class=\"data row8 col1\" >0.2698</td>\n",
              "      <td id=\"T_f7251_row8_col2\" class=\"data row8 col2\" >0.7615</td>\n",
              "      <td id=\"T_f7251_row8_col3\" class=\"data row8 col3\" >0.2698</td>\n",
              "      <td id=\"T_f7251_row8_col4\" class=\"data row8 col4\" >0.2821</td>\n",
              "      <td id=\"T_f7251_row8_col5\" class=\"data row8 col5\" >0.2679</td>\n",
              "      <td id=\"T_f7251_row8_col6\" class=\"data row8 col6\" >0.2015</td>\n",
              "      <td id=\"T_f7251_row8_col7\" class=\"data row8 col7\" >0.2025</td>\n",
              "      <td id=\"T_f7251_row8_col8\" class=\"data row8 col8\" >1.5610</td>\n",
              "    </tr>\n",
              "    <tr>\n",
              "      <th id=\"T_f7251_level0_row9\" class=\"row_heading level0 row9\" >ridge</th>\n",
              "      <td id=\"T_f7251_row9_col0\" class=\"data row9 col0\" >Ridge Classifier</td>\n",
              "      <td id=\"T_f7251_row9_col1\" class=\"data row9 col1\" >0.2281</td>\n",
              "      <td id=\"T_f7251_row9_col2\" class=\"data row9 col2\" >0.0000</td>\n",
              "      <td id=\"T_f7251_row9_col3\" class=\"data row9 col3\" >0.2281</td>\n",
              "      <td id=\"T_f7251_row9_col4\" class=\"data row9 col4\" >0.2240</td>\n",
              "      <td id=\"T_f7251_row9_col5\" class=\"data row9 col5\" >0.2043</td>\n",
              "      <td id=\"T_f7251_row9_col6\" class=\"data row9 col6\" >0.1568</td>\n",
              "      <td id=\"T_f7251_row9_col7\" class=\"data row9 col7\" >0.1596</td>\n",
              "      <td id=\"T_f7251_row9_col8\" class=\"data row9 col8\" >0.9380</td>\n",
              "    </tr>\n",
              "    <tr>\n",
              "      <th id=\"T_f7251_level0_row10\" class=\"row_heading level0 row10\" >qda</th>\n",
              "      <td id=\"T_f7251_row10_col0\" class=\"data row10 col0\" >Quadratic Discriminant Analysis</td>\n",
              "      <td id=\"T_f7251_row10_col1\" class=\"data row10 col1\" >0.1362</td>\n",
              "      <td id=\"T_f7251_row10_col2\" class=\"data row10 col2\" >0.6905</td>\n",
              "      <td id=\"T_f7251_row10_col3\" class=\"data row10 col3\" >0.1362</td>\n",
              "      <td id=\"T_f7251_row10_col4\" class=\"data row10 col4\" >0.6113</td>\n",
              "      <td id=\"T_f7251_row10_col5\" class=\"data row10 col5\" >0.0878</td>\n",
              "      <td id=\"T_f7251_row10_col6\" class=\"data row10 col6\" >0.0657</td>\n",
              "      <td id=\"T_f7251_row10_col7\" class=\"data row10 col7\" >0.0935</td>\n",
              "      <td id=\"T_f7251_row10_col8\" class=\"data row10 col8\" >1.2190</td>\n",
              "    </tr>\n",
              "    <tr>\n",
              "      <th id=\"T_f7251_level0_row11\" class=\"row_heading level0 row11\" >nb</th>\n",
              "      <td id=\"T_f7251_row11_col0\" class=\"data row11 col0\" >Naive Bayes</td>\n",
              "      <td id=\"T_f7251_row11_col1\" class=\"data row11 col1\" >0.0979</td>\n",
              "      <td id=\"T_f7251_row11_col2\" class=\"data row11 col2\" >0.5863</td>\n",
              "      <td id=\"T_f7251_row11_col3\" class=\"data row11 col3\" >0.0979</td>\n",
              "      <td id=\"T_f7251_row11_col4\" class=\"data row11 col4\" >0.1043</td>\n",
              "      <td id=\"T_f7251_row11_col5\" class=\"data row11 col5\" >0.0408</td>\n",
              "      <td id=\"T_f7251_row11_col6\" class=\"data row11 col6\" >0.0085</td>\n",
              "      <td id=\"T_f7251_row11_col7\" class=\"data row11 col7\" >0.0158</td>\n",
              "      <td id=\"T_f7251_row11_col8\" class=\"data row11 col8\" >1.2780</td>\n",
              "    </tr>\n",
              "    <tr>\n",
              "      <th id=\"T_f7251_level0_row12\" class=\"row_heading level0 row12\" >dummy</th>\n",
              "      <td id=\"T_f7251_row12_col0\" class=\"data row12 col0\" >Dummy Classifier</td>\n",
              "      <td id=\"T_f7251_row12_col1\" class=\"data row12 col1\" >0.0969</td>\n",
              "      <td id=\"T_f7251_row12_col2\" class=\"data row12 col2\" >0.5000</td>\n",
              "      <td id=\"T_f7251_row12_col3\" class=\"data row12 col3\" >0.0969</td>\n",
              "      <td id=\"T_f7251_row12_col4\" class=\"data row12 col4\" >0.0094</td>\n",
              "      <td id=\"T_f7251_row12_col5\" class=\"data row12 col5\" >0.0171</td>\n",
              "      <td id=\"T_f7251_row12_col6\" class=\"data row12 col6\" >0.0000</td>\n",
              "      <td id=\"T_f7251_row12_col7\" class=\"data row12 col7\" >0.0000</td>\n",
              "      <td id=\"T_f7251_row12_col8\" class=\"data row12 col8\" >1.1330</td>\n",
              "    </tr>\n",
              "    <tr>\n",
              "      <th id=\"T_f7251_level0_row13\" class=\"row_heading level0 row13\" >lr</th>\n",
              "      <td id=\"T_f7251_row13_col0\" class=\"data row13 col0\" >Logistic Regression</td>\n",
              "      <td id=\"T_f7251_row13_col1\" class=\"data row13 col1\" >0.0903</td>\n",
              "      <td id=\"T_f7251_row13_col2\" class=\"data row13 col2\" >0.5178</td>\n",
              "      <td id=\"T_f7251_row13_col3\" class=\"data row13 col3\" >0.0903</td>\n",
              "      <td id=\"T_f7251_row13_col4\" class=\"data row13 col4\" >0.0184</td>\n",
              "      <td id=\"T_f7251_row13_col5\" class=\"data row13 col5\" >0.0275</td>\n",
              "      <td id=\"T_f7251_row13_col6\" class=\"data row13 col6\" >0.0059</td>\n",
              "      <td id=\"T_f7251_row13_col7\" class=\"data row13 col7\" >0.0087</td>\n",
              "      <td id=\"T_f7251_row13_col8\" class=\"data row13 col8\" >2.2040</td>\n",
              "    </tr>\n",
              "    <tr>\n",
              "      <th id=\"T_f7251_level0_row14\" class=\"row_heading level0 row14\" >svm</th>\n",
              "      <td id=\"T_f7251_row14_col0\" class=\"data row14 col0\" >SVM - Linear Kernel</td>\n",
              "      <td id=\"T_f7251_row14_col1\" class=\"data row14 col1\" >0.0883</td>\n",
              "      <td id=\"T_f7251_row14_col2\" class=\"data row14 col2\" >0.0000</td>\n",
              "      <td id=\"T_f7251_row14_col3\" class=\"data row14 col3\" >0.0883</td>\n",
              "      <td id=\"T_f7251_row14_col4\" class=\"data row14 col4\" >0.0381</td>\n",
              "      <td id=\"T_f7251_row14_col5\" class=\"data row14 col5\" >0.0320</td>\n",
              "      <td id=\"T_f7251_row14_col6\" class=\"data row14 col6\" >0.0057</td>\n",
              "      <td id=\"T_f7251_row14_col7\" class=\"data row14 col7\" >0.0069</td>\n",
              "      <td id=\"T_f7251_row14_col8\" class=\"data row14 col8\" >7.2390</td>\n",
              "    </tr>\n",
              "  </tbody>\n",
              "</table>\n"
            ]
          },
          "metadata": {}
        },
        {
          "output_type": "display_data",
          "data": {
            "text/plain": [
              "Processing:   0%|          | 0/65 [00:00<?, ?it/s]"
            ],
            "application/vnd.jupyter.widget-view+json": {
              "version_major": 2,
              "version_minor": 0,
              "model_id": "b95b10d78cbd49b2b563c8d9546f2ca5"
            }
          },
          "metadata": {
            "application/vnd.jupyter.widget-view+json": {
              "colab": {
                "custom_widget_manager": {
                  "url": "https://ssl.gstatic.com/colaboratory-static/widgets/colab-cdn-widget-manager/b3e629b1971e1542/manager.min.js"
                }
              }
            }
          }
        },
        {
          "output_type": "display_data",
          "data": {
            "text/plain": [
              "<IPython.core.display.HTML object>"
            ],
            "text/html": []
          },
          "metadata": {}
        }
      ]
    },
    {
      "cell_type": "markdown",
      "source": [
        "From the results it can be concluded that the Random Forest Classifier model has better metrics than other models."
      ],
      "metadata": {
        "id": "tpWdyhD5ffUY"
      }
    },
    {
      "cell_type": "markdown",
      "source": [
        "# Model Evaluation"
      ],
      "metadata": {
        "id": "SJ5RRRdEAQUI"
      }
    },
    {
      "cell_type": "code",
      "source": [
        "evaluate_model(best_model)"
      ],
      "metadata": {
        "colab": {
          "base_uri": "https://localhost:8080/",
          "height": 178,
          "referenced_widgets": [
            "9ce9e9a16a1e44ad842c944b9a1f4ac6",
            "7cbb527ca5d24591bb0ad8626f34b19b",
            "1ffe41f6c3df4261b638560286cde2af",
            "5047631c3a654023a5fc7f9222f28204",
            "9c4238e33f0f4b27ad04cc34a022d586",
            "0beee41c9b5e44b290c2ffd5c91d1e0d",
            "bfc31230ae8243f6b0fe6f08d796d054"
          ]
        },
        "id": "K4MNru3D2_hE",
        "outputId": "ab25573c-2c9f-4565-9058-ff22686b3620"
      },
      "execution_count": 27,
      "outputs": [
        {
          "output_type": "display_data",
          "data": {
            "text/plain": [
              "interactive(children=(ToggleButtons(description='Plot Type:', icons=('',), options=(('Pipeline Plot', 'pipelin…"
            ],
            "application/vnd.jupyter.widget-view+json": {
              "version_major": 2,
              "version_minor": 0,
              "model_id": "9ce9e9a16a1e44ad842c944b9a1f4ac6"
            }
          },
          "metadata": {
            "application/vnd.jupyter.widget-view+json": {
              "colab": {
                "custom_widget_manager": {
                  "url": "https://ssl.gstatic.com/colaboratory-static/widgets/colab-cdn-widget-manager/b3e629b1971e1542/manager.min.js"
                }
              }
            }
          }
        }
      ]
    },
    {
      "cell_type": "markdown",
      "source": [
        "Further analysis can be seen by the following lines of code."
      ],
      "metadata": {
        "id": "xOh0d_AdfpZG"
      }
    },
    {
      "cell_type": "markdown",
      "source": [
        "# Model Saving"
      ],
      "metadata": {
        "id": "Urma4IDwASty"
      }
    },
    {
      "cell_type": "code",
      "source": [
        "save_model(best_model, 'classification')"
      ],
      "metadata": {
        "id": "P3nTkJq53Fzm",
        "colab": {
          "base_uri": "https://localhost:8080/"
        },
        "outputId": "6d9db2e7-1388-4cc9-99c6-cfae7f0cad8c"
      },
      "execution_count": 28,
      "outputs": [
        {
          "output_type": "stream",
          "name": "stdout",
          "text": [
            "Transformation Pipeline and Model Successfully Saved\n"
          ]
        },
        {
          "output_type": "execute_result",
          "data": {
            "text/plain": [
              "(Pipeline(memory=Memory(location=None),\n",
              "          steps=[('label_encoding',\n",
              "                  TransformerWrapperWithInverse(exclude=None, include=None,\n",
              "                                                transformer=LabelEncoder())),\n",
              "                 ('numerical_imputer',\n",
              "                  TransformerWrapper(exclude=None,\n",
              "                                     include=['age', 'height', 'income'],\n",
              "                                     transformer=SimpleImputer(add_indicator=False,\n",
              "                                                               copy=True,\n",
              "                                                               fill_value=None,\n",
              "                                                               keep_empty_features=False,\n",
              "                                                               missing_values=na...\n",
              "                  RandomForestClassifier(bootstrap=True, ccp_alpha=0.0,\n",
              "                                         class_weight=None, criterion='gini',\n",
              "                                         max_depth=None, max_features='sqrt',\n",
              "                                         max_leaf_nodes=None, max_samples=None,\n",
              "                                         min_impurity_decrease=0.0,\n",
              "                                         min_samples_leaf=1, min_samples_split=2,\n",
              "                                         min_weight_fraction_leaf=0.0,\n",
              "                                         n_estimators=100, n_jobs=-1,\n",
              "                                         oob_score=False, random_state=7024,\n",
              "                                         verbose=0, warm_start=False))],\n",
              "          verbose=False),\n",
              " 'classification.pkl')"
            ]
          },
          "metadata": {},
          "execution_count": 28
        }
      ]
    },
    {
      "cell_type": "markdown",
      "source": [
        "Save the model for further use (for example: deployment)."
      ],
      "metadata": {
        "id": "2ZGPUvw3fqm7"
      }
    },
    {
      "cell_type": "markdown",
      "source": [
        "# Conclusion"
      ],
      "metadata": {
        "id": "eX1UlhpHQYSQ"
      }
    },
    {
      "cell_type": "markdown",
      "source": [
        "Through the analysis, we learned several important insights:\n",
        "\n",
        "* Model Performance: Random Forest and Extra Trees classifiers performed the best in terms of accuracy, AUC, recall, precision, F1 score, Kappa, and MCC. These models are robust and well-suited for this prediction task.\n",
        "* Computational Efficiency: Decision Tree Classifier was the quickest to run, with the lowest computational time, while maintaining relatively good performance. In contrast, Gradient Boosting Classifier had the longest runtime, which may not be suitable for real-time predictions.\n",
        "* Challenges with Some Models: Models such as Logistic Regression, SVM with a Linear Kernel, Naive Bayes, and the Dummy Classifier displayed significantly lower accuracy, indicating they are not ideal for this prediction task.\n",
        "\n",
        "The results largely align with expectations. Random Forest and Extra Trees classifiers are known for their robustness and strong predictive power. However, some models, such as Gradient Boosting and Ada Boost, may have shown stronger performance if tuned further. On the other hand, models like Naive Bayes and the Dummy Classifier were expected to perform poorly due to the complexity of the prediction task.\n",
        "\n",
        "Key Findings and Takeaways\n",
        "\n",
        "* The choice of classification model significantly impacts the prediction of user behavior. Random Forest and Extra Trees classifiers outperform other models in this specific context.\n",
        "* Consider the trade-off between accuracy and computational time. Decision Tree Classifier provides a good balance between simplicity and speed, making it a viable option for real-time predictions.\n",
        "* Further hyperparameter tuning may enhance the performance of some models that showed potential but fell short.\n",
        "* Models like Logistic Regression and Naive Bayes are not suitable for this prediction task and should be avoided.\n",
        "\n",
        "In conclusion, the choice of the classification model should be based on the specific requirements of the application, considering factors such as accuracy, computational efficiency, and ease of interpretation. For predicting user behavior, Random Forest and Extra Trees classifiers offer strong performance, while Decision Tree Classifier provides a quicker alternative without a significant sacrifice in accuracy. Further optimization and feature engineering may improve the overall predictive power of these models.\n",
        "\n",
        "The next steps should involve refining and optimizing the selected models, possibly collecting more relevant data, and exploring feature engineering techniques to further enhance predictive accuracy."
      ],
      "metadata": {
        "id": "ZXCWQL_nQajh"
      }
    }
  ],
  "metadata": {
    "kernelspec": {
      "display_name": "Python 3",
      "language": "python",
      "name": "python3"
    },
    "language_info": {
      "codemirror_mode": {
        "name": "ipython",
        "version": 3
      },
      "file_extension": ".py",
      "mimetype": "text/x-python",
      "name": "python",
      "nbconvert_exporter": "python",
      "pygments_lexer": "ipython3",
      "version": "3.7.6"
    },
    "colab": {
      "provenance": []
    },
    "widgets": {
      "application/vnd.jupyter.widget-state+json": {
        "b95b10d78cbd49b2b563c8d9546f2ca5": {
          "model_module": "@jupyter-widgets/controls",
          "model_name": "HBoxModel",
          "model_module_version": "1.5.0",
          "state": {
            "_dom_classes": [],
            "_model_module": "@jupyter-widgets/controls",
            "_model_module_version": "1.5.0",
            "_model_name": "HBoxModel",
            "_view_count": null,
            "_view_module": "@jupyter-widgets/controls",
            "_view_module_version": "1.5.0",
            "_view_name": "HBoxView",
            "box_style": "",
            "children": [
              "IPY_MODEL_d99e18c3a6ed4d539663139731f766a7",
              "IPY_MODEL_d75a6edb65e14ad997f33f64222a3cf2",
              "IPY_MODEL_976897c9b28c4a4ba40a82af0a84d682"
            ],
            "layout": "IPY_MODEL_508a1e3aac374c06aaba4f2677d36296"
          }
        },
        "d99e18c3a6ed4d539663139731f766a7": {
          "model_module": "@jupyter-widgets/controls",
          "model_name": "HTMLModel",
          "model_module_version": "1.5.0",
          "state": {
            "_dom_classes": [],
            "_model_module": "@jupyter-widgets/controls",
            "_model_module_version": "1.5.0",
            "_model_name": "HTMLModel",
            "_view_count": null,
            "_view_module": "@jupyter-widgets/controls",
            "_view_module_version": "1.5.0",
            "_view_name": "HTMLView",
            "description": "",
            "description_tooltip": null,
            "layout": "IPY_MODEL_294031620d1b4ad3a88498152bfc5723",
            "placeholder": "​",
            "style": "IPY_MODEL_372736ddb2634709ac9fff69e2aadf7f",
            "value": "Processing: 100%"
          }
        },
        "d75a6edb65e14ad997f33f64222a3cf2": {
          "model_module": "@jupyter-widgets/controls",
          "model_name": "FloatProgressModel",
          "model_module_version": "1.5.0",
          "state": {
            "_dom_classes": [],
            "_model_module": "@jupyter-widgets/controls",
            "_model_module_version": "1.5.0",
            "_model_name": "FloatProgressModel",
            "_view_count": null,
            "_view_module": "@jupyter-widgets/controls",
            "_view_module_version": "1.5.0",
            "_view_name": "ProgressView",
            "bar_style": "",
            "description": "",
            "description_tooltip": null,
            "layout": "IPY_MODEL_23f8e8f0cd374fd9b81ee144e418eb68",
            "max": 65,
            "min": 0,
            "orientation": "horizontal",
            "style": "IPY_MODEL_f2650a6f21394ce2aa620ba728c01d56",
            "value": 65
          }
        },
        "976897c9b28c4a4ba40a82af0a84d682": {
          "model_module": "@jupyter-widgets/controls",
          "model_name": "HTMLModel",
          "model_module_version": "1.5.0",
          "state": {
            "_dom_classes": [],
            "_model_module": "@jupyter-widgets/controls",
            "_model_module_version": "1.5.0",
            "_model_name": "HTMLModel",
            "_view_count": null,
            "_view_module": "@jupyter-widgets/controls",
            "_view_module_version": "1.5.0",
            "_view_name": "HTMLView",
            "description": "",
            "description_tooltip": null,
            "layout": "IPY_MODEL_4d065c2c35564f8585e3030a345de1fa",
            "placeholder": "​",
            "style": "IPY_MODEL_5efd536f77244bce8b240a1bcb6187e8",
            "value": " 65/65 [19:39&lt;00:00, 10.36s/it]"
          }
        },
        "508a1e3aac374c06aaba4f2677d36296": {
          "model_module": "@jupyter-widgets/base",
          "model_name": "LayoutModel",
          "model_module_version": "1.2.0",
          "state": {
            "_model_module": "@jupyter-widgets/base",
            "_model_module_version": "1.2.0",
            "_model_name": "LayoutModel",
            "_view_count": null,
            "_view_module": "@jupyter-widgets/base",
            "_view_module_version": "1.2.0",
            "_view_name": "LayoutView",
            "align_content": null,
            "align_items": null,
            "align_self": null,
            "border": null,
            "bottom": null,
            "display": null,
            "flex": null,
            "flex_flow": null,
            "grid_area": null,
            "grid_auto_columns": null,
            "grid_auto_flow": null,
            "grid_auto_rows": null,
            "grid_column": null,
            "grid_gap": null,
            "grid_row": null,
            "grid_template_areas": null,
            "grid_template_columns": null,
            "grid_template_rows": null,
            "height": null,
            "justify_content": null,
            "justify_items": null,
            "left": null,
            "margin": null,
            "max_height": null,
            "max_width": null,
            "min_height": null,
            "min_width": null,
            "object_fit": null,
            "object_position": null,
            "order": null,
            "overflow": null,
            "overflow_x": null,
            "overflow_y": null,
            "padding": null,
            "right": null,
            "top": null,
            "visibility": "hidden",
            "width": null
          }
        },
        "294031620d1b4ad3a88498152bfc5723": {
          "model_module": "@jupyter-widgets/base",
          "model_name": "LayoutModel",
          "model_module_version": "1.2.0",
          "state": {
            "_model_module": "@jupyter-widgets/base",
            "_model_module_version": "1.2.0",
            "_model_name": "LayoutModel",
            "_view_count": null,
            "_view_module": "@jupyter-widgets/base",
            "_view_module_version": "1.2.0",
            "_view_name": "LayoutView",
            "align_content": null,
            "align_items": null,
            "align_self": null,
            "border": null,
            "bottom": null,
            "display": null,
            "flex": null,
            "flex_flow": null,
            "grid_area": null,
            "grid_auto_columns": null,
            "grid_auto_flow": null,
            "grid_auto_rows": null,
            "grid_column": null,
            "grid_gap": null,
            "grid_row": null,
            "grid_template_areas": null,
            "grid_template_columns": null,
            "grid_template_rows": null,
            "height": null,
            "justify_content": null,
            "justify_items": null,
            "left": null,
            "margin": null,
            "max_height": null,
            "max_width": null,
            "min_height": null,
            "min_width": null,
            "object_fit": null,
            "object_position": null,
            "order": null,
            "overflow": null,
            "overflow_x": null,
            "overflow_y": null,
            "padding": null,
            "right": null,
            "top": null,
            "visibility": null,
            "width": null
          }
        },
        "372736ddb2634709ac9fff69e2aadf7f": {
          "model_module": "@jupyter-widgets/controls",
          "model_name": "DescriptionStyleModel",
          "model_module_version": "1.5.0",
          "state": {
            "_model_module": "@jupyter-widgets/controls",
            "_model_module_version": "1.5.0",
            "_model_name": "DescriptionStyleModel",
            "_view_count": null,
            "_view_module": "@jupyter-widgets/base",
            "_view_module_version": "1.2.0",
            "_view_name": "StyleView",
            "description_width": ""
          }
        },
        "23f8e8f0cd374fd9b81ee144e418eb68": {
          "model_module": "@jupyter-widgets/base",
          "model_name": "LayoutModel",
          "model_module_version": "1.2.0",
          "state": {
            "_model_module": "@jupyter-widgets/base",
            "_model_module_version": "1.2.0",
            "_model_name": "LayoutModel",
            "_view_count": null,
            "_view_module": "@jupyter-widgets/base",
            "_view_module_version": "1.2.0",
            "_view_name": "LayoutView",
            "align_content": null,
            "align_items": null,
            "align_self": null,
            "border": null,
            "bottom": null,
            "display": null,
            "flex": null,
            "flex_flow": null,
            "grid_area": null,
            "grid_auto_columns": null,
            "grid_auto_flow": null,
            "grid_auto_rows": null,
            "grid_column": null,
            "grid_gap": null,
            "grid_row": null,
            "grid_template_areas": null,
            "grid_template_columns": null,
            "grid_template_rows": null,
            "height": null,
            "justify_content": null,
            "justify_items": null,
            "left": null,
            "margin": null,
            "max_height": null,
            "max_width": null,
            "min_height": null,
            "min_width": null,
            "object_fit": null,
            "object_position": null,
            "order": null,
            "overflow": null,
            "overflow_x": null,
            "overflow_y": null,
            "padding": null,
            "right": null,
            "top": null,
            "visibility": null,
            "width": null
          }
        },
        "f2650a6f21394ce2aa620ba728c01d56": {
          "model_module": "@jupyter-widgets/controls",
          "model_name": "ProgressStyleModel",
          "model_module_version": "1.5.0",
          "state": {
            "_model_module": "@jupyter-widgets/controls",
            "_model_module_version": "1.5.0",
            "_model_name": "ProgressStyleModel",
            "_view_count": null,
            "_view_module": "@jupyter-widgets/base",
            "_view_module_version": "1.2.0",
            "_view_name": "StyleView",
            "bar_color": null,
            "description_width": ""
          }
        },
        "4d065c2c35564f8585e3030a345de1fa": {
          "model_module": "@jupyter-widgets/base",
          "model_name": "LayoutModel",
          "model_module_version": "1.2.0",
          "state": {
            "_model_module": "@jupyter-widgets/base",
            "_model_module_version": "1.2.0",
            "_model_name": "LayoutModel",
            "_view_count": null,
            "_view_module": "@jupyter-widgets/base",
            "_view_module_version": "1.2.0",
            "_view_name": "LayoutView",
            "align_content": null,
            "align_items": null,
            "align_self": null,
            "border": null,
            "bottom": null,
            "display": null,
            "flex": null,
            "flex_flow": null,
            "grid_area": null,
            "grid_auto_columns": null,
            "grid_auto_flow": null,
            "grid_auto_rows": null,
            "grid_column": null,
            "grid_gap": null,
            "grid_row": null,
            "grid_template_areas": null,
            "grid_template_columns": null,
            "grid_template_rows": null,
            "height": null,
            "justify_content": null,
            "justify_items": null,
            "left": null,
            "margin": null,
            "max_height": null,
            "max_width": null,
            "min_height": null,
            "min_width": null,
            "object_fit": null,
            "object_position": null,
            "order": null,
            "overflow": null,
            "overflow_x": null,
            "overflow_y": null,
            "padding": null,
            "right": null,
            "top": null,
            "visibility": null,
            "width": null
          }
        },
        "5efd536f77244bce8b240a1bcb6187e8": {
          "model_module": "@jupyter-widgets/controls",
          "model_name": "DescriptionStyleModel",
          "model_module_version": "1.5.0",
          "state": {
            "_model_module": "@jupyter-widgets/controls",
            "_model_module_version": "1.5.0",
            "_model_name": "DescriptionStyleModel",
            "_view_count": null,
            "_view_module": "@jupyter-widgets/base",
            "_view_module_version": "1.2.0",
            "_view_name": "StyleView",
            "description_width": ""
          }
        },
        "9ce9e9a16a1e44ad842c944b9a1f4ac6": {
          "model_module": "@jupyter-widgets/controls",
          "model_name": "VBoxModel",
          "model_module_version": "1.5.0",
          "state": {
            "_dom_classes": [
              "widget-interact"
            ],
            "_model_module": "@jupyter-widgets/controls",
            "_model_module_version": "1.5.0",
            "_model_name": "VBoxModel",
            "_view_count": null,
            "_view_module": "@jupyter-widgets/controls",
            "_view_module_version": "1.5.0",
            "_view_name": "VBoxView",
            "box_style": "",
            "children": [
              "IPY_MODEL_7cbb527ca5d24591bb0ad8626f34b19b",
              "IPY_MODEL_1ffe41f6c3df4261b638560286cde2af"
            ],
            "layout": "IPY_MODEL_5047631c3a654023a5fc7f9222f28204"
          }
        },
        "7cbb527ca5d24591bb0ad8626f34b19b": {
          "model_module": "@jupyter-widgets/controls",
          "model_name": "ToggleButtonsModel",
          "model_module_version": "1.5.0",
          "state": {
            "_dom_classes": [],
            "_model_module": "@jupyter-widgets/controls",
            "_model_module_version": "1.5.0",
            "_model_name": "ToggleButtonsModel",
            "_options_labels": [
              "Pipeline Plot",
              "Hyperparameters",
              "AUC",
              "Confusion Matrix",
              "Threshold",
              "Precision Recall",
              "Prediction Error",
              "Class Report",
              "Feature Selection",
              "Learning Curve",
              "Manifold Learning",
              "Calibration Curve",
              "Validation Curve",
              "Dimensions",
              "Feature Importance",
              "Feature Importance (All)",
              "Decision Boundary",
              "Lift Chart",
              "Gain Chart",
              "Decision Tree",
              "KS Statistic Plot"
            ],
            "_view_count": null,
            "_view_module": "@jupyter-widgets/controls",
            "_view_module_version": "1.5.0",
            "_view_name": "ToggleButtonsView",
            "button_style": "",
            "description": "Plot Type:",
            "description_tooltip": null,
            "disabled": false,
            "icons": [
              ""
            ],
            "index": 0,
            "layout": "IPY_MODEL_9c4238e33f0f4b27ad04cc34a022d586",
            "style": "IPY_MODEL_0beee41c9b5e44b290c2ffd5c91d1e0d",
            "tooltips": []
          }
        },
        "1ffe41f6c3df4261b638560286cde2af": {
          "model_module": "@jupyter-widgets/output",
          "model_name": "OutputModel",
          "model_module_version": "1.0.0",
          "state": {
            "_dom_classes": [],
            "_model_module": "@jupyter-widgets/output",
            "_model_module_version": "1.0.0",
            "_model_name": "OutputModel",
            "_view_count": null,
            "_view_module": "@jupyter-widgets/output",
            "_view_module_version": "1.0.0",
            "_view_name": "OutputView",
            "layout": "IPY_MODEL_bfc31230ae8243f6b0fe6f08d796d054",
            "msg_id": "",
            "outputs": [
              {
                "output_type": "display_data",
                "data": {
                  "text/plain": "<Figure size 3200x600 with 1 Axes>",
                  "image/png": "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\n"
                },
                "metadata": {}
              }
            ]
          }
        },
        "5047631c3a654023a5fc7f9222f28204": {
          "model_module": "@jupyter-widgets/base",
          "model_name": "LayoutModel",
          "model_module_version": "1.2.0",
          "state": {
            "_model_module": "@jupyter-widgets/base",
            "_model_module_version": "1.2.0",
            "_model_name": "LayoutModel",
            "_view_count": null,
            "_view_module": "@jupyter-widgets/base",
            "_view_module_version": "1.2.0",
            "_view_name": "LayoutView",
            "align_content": null,
            "align_items": null,
            "align_self": null,
            "border": null,
            "bottom": null,
            "display": null,
            "flex": null,
            "flex_flow": null,
            "grid_area": null,
            "grid_auto_columns": null,
            "grid_auto_flow": null,
            "grid_auto_rows": null,
            "grid_column": null,
            "grid_gap": null,
            "grid_row": null,
            "grid_template_areas": null,
            "grid_template_columns": null,
            "grid_template_rows": null,
            "height": null,
            "justify_content": null,
            "justify_items": null,
            "left": null,
            "margin": null,
            "max_height": null,
            "max_width": null,
            "min_height": null,
            "min_width": null,
            "object_fit": null,
            "object_position": null,
            "order": null,
            "overflow": null,
            "overflow_x": null,
            "overflow_y": null,
            "padding": null,
            "right": null,
            "top": null,
            "visibility": null,
            "width": null
          }
        },
        "9c4238e33f0f4b27ad04cc34a022d586": {
          "model_module": "@jupyter-widgets/base",
          "model_name": "LayoutModel",
          "model_module_version": "1.2.0",
          "state": {
            "_model_module": "@jupyter-widgets/base",
            "_model_module_version": "1.2.0",
            "_model_name": "LayoutModel",
            "_view_count": null,
            "_view_module": "@jupyter-widgets/base",
            "_view_module_version": "1.2.0",
            "_view_name": "LayoutView",
            "align_content": null,
            "align_items": null,
            "align_self": null,
            "border": null,
            "bottom": null,
            "display": null,
            "flex": null,
            "flex_flow": null,
            "grid_area": null,
            "grid_auto_columns": null,
            "grid_auto_flow": null,
            "grid_auto_rows": null,
            "grid_column": null,
            "grid_gap": null,
            "grid_row": null,
            "grid_template_areas": null,
            "grid_template_columns": null,
            "grid_template_rows": null,
            "height": null,
            "justify_content": null,
            "justify_items": null,
            "left": null,
            "margin": null,
            "max_height": null,
            "max_width": null,
            "min_height": null,
            "min_width": null,
            "object_fit": null,
            "object_position": null,
            "order": null,
            "overflow": null,
            "overflow_x": null,
            "overflow_y": null,
            "padding": null,
            "right": null,
            "top": null,
            "visibility": null,
            "width": null
          }
        },
        "0beee41c9b5e44b290c2ffd5c91d1e0d": {
          "model_module": "@jupyter-widgets/controls",
          "model_name": "ToggleButtonsStyleModel",
          "model_module_version": "1.5.0",
          "state": {
            "_model_module": "@jupyter-widgets/controls",
            "_model_module_version": "1.5.0",
            "_model_name": "ToggleButtonsStyleModel",
            "_view_count": null,
            "_view_module": "@jupyter-widgets/base",
            "_view_module_version": "1.2.0",
            "_view_name": "StyleView",
            "button_width": "",
            "description_width": "",
            "font_weight": ""
          }
        },
        "bfc31230ae8243f6b0fe6f08d796d054": {
          "model_module": "@jupyter-widgets/base",
          "model_name": "LayoutModel",
          "model_module_version": "1.2.0",
          "state": {
            "_model_module": "@jupyter-widgets/base",
            "_model_module_version": "1.2.0",
            "_model_name": "LayoutModel",
            "_view_count": null,
            "_view_module": "@jupyter-widgets/base",
            "_view_module_version": "1.2.0",
            "_view_name": "LayoutView",
            "align_content": null,
            "align_items": null,
            "align_self": null,
            "border": null,
            "bottom": null,
            "display": null,
            "flex": null,
            "flex_flow": null,
            "grid_area": null,
            "grid_auto_columns": null,
            "grid_auto_flow": null,
            "grid_auto_rows": null,
            "grid_column": null,
            "grid_gap": null,
            "grid_row": null,
            "grid_template_areas": null,
            "grid_template_columns": null,
            "grid_template_rows": null,
            "height": null,
            "justify_content": null,
            "justify_items": null,
            "left": null,
            "margin": null,
            "max_height": null,
            "max_width": null,
            "min_height": null,
            "min_width": null,
            "object_fit": null,
            "object_position": null,
            "order": null,
            "overflow": null,
            "overflow_x": null,
            "overflow_y": null,
            "padding": null,
            "right": null,
            "top": null,
            "visibility": null,
            "width": null
          }
        }
      }
    }
  },
  "nbformat": 4,
  "nbformat_minor": 0
}